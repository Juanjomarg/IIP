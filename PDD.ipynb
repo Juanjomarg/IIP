{
 "cells": [
  {
   "cell_type": "markdown",
   "metadata": {},
   "source": [
    "# Configuración - Ignórese"
   ]
  },
  {
   "cell_type": "code",
   "execution_count": 54,
   "metadata": {},
   "outputs": [],
   "source": [
    "#!pip3 install -r ./requirements.txt\n",
    "\n",
    "#Descomente esa línea si su ambiente aún no está preparado o carece de las librerías necesarias."
   ]
  },
  {
   "cell_type": "code",
   "execution_count": 55,
   "metadata": {},
   "outputs": [],
   "source": [
    "import pandas as pd\n",
    "import plotly as pt\n",
    "import plotly.express as px"
   ]
  },
  {
   "cell_type": "code",
   "execution_count": 56,
   "metadata": {},
   "outputs": [],
   "source": [
    "UBI_AR={\n",
    "    'p1':'./files/separadas/repeat_p1.xlsx',\n",
    "    'p2':'./files/separadas/repeat_p2.xlsx',\n",
    "    'p13':'./files/separadas/repeat_p13.xlsx',\n",
    "    'p14':'./files/separadas/repeat_p14.xlsx',\n",
    "    'p15':'./files/separadas/repeat_p15.xlsx',\n",
    "    'p16':'./files/separadas/repeat_p16.xlsx',\n",
    "    'p17':'./files/separadas/repeat_p17.xlsx',\n",
    "    'p18':'./files/separadas/repeat_p18.xlsx',\n",
    "    'p19':'./files/separadas/repeat_p19.xlsx',\n",
    "    'p20':'./files/separadas/repeat_p20.xlsx',\n",
    "    'p21':'./files/separadas/repeat_p21.xlsx',\n",
    "    'p22':'./files/separadas/repeat_p22.xlsx',\n",
    "    'p23':'./files/separadas/repeat_p23.xlsx',\n",
    "    'p24_1':'./files/separadas/repeat_p24_1.xlsx',\n",
    "    'p24_2':'./files/separadas/repeat_p24_2.xlsx',\n",
    "    'p24_3':'./files/separadas/repeat_p24_3.xlsx',\n",
    "    'p24_4':'./files/separadas/repeat_p24_4.xlsx',\n",
    "    'p24_5':'./files/separadas/repeat_p24_5.xlsx',\n",
    "    'p25':'./files/separadas/repeat_p25.xlsx',\n",
    "    'p26':'./files/separadas/repeat_p26.xlsx',\n",
    "    'p27':'./files/separadas/repeat_p27.xlsx',\n",
    "    'p28':'./files/separadas/repeat_p28.xlsx',\n",
    "    'p31':'./files/separadas/repeat_p31.xlsx',\n",
    "    'p32':'./files/separadas/repeat_p32.xlsx',\n",
    "    'p33':'./files/separadas/repeat_p33.xlsx',\n",
    "    'p34':'./files/separadas/repeat_p34.xlsx',\n",
    "    'p35':'./files/separadas/repeat_p35.xlsx',\n",
    "    'p36':'./files/separadas/repeat_p36.xlsx',\n",
    "    'p37':'./files/separadas/repeat_p37.xlsx',\n",
    "    'p38':'./files/separadas/repeat_p38.xlsx',\n",
    "    'p39':'./files/separadas/repeat_p39.xlsx',\n",
    "    'preguntas':'./files/preguntas/leyenda_columnas.xlsx',\n",
    "    'respuestas_2021':'./files/respuestas/2021/respuestas_2021.xlsx',\n",
    "    'respuestas_2023':'./files/respuestas/2023/respuestas_2023.xlsx',\n",
    "    'resultados_2021':'./files/resultados/2021/resultados_2021.xlsx',\n",
    "    'resultados_2023':'./files/resultados/2023/resultados_2023.xlsx',\n",
    "    }\n",
    "\n",
    "\n",
    "preguntas_df=pd.read_excel(UBI_AR['preguntas'])\n",
    "\n",
    "respuestas_2021_df=pd.read_excel(UBI_AR['respuestas_2021'],)\n",
    "respuestas_2023_df=pd.read_excel(UBI_AR['respuestas_2023'])\n",
    "\n",
    "resultados_2021_df=pd.read_excel(UBI_AR['resultados_2021'])\n",
    "resultados_2023_df=pd.read_excel(UBI_AR['resultados_2023'])\n",
    "\n",
    "p1_df=pd.read_excel(UBI_AR['p1'])\n",
    "p2_df=pd.read_excel(UBI_AR['p2'])\n",
    "p13_df=pd.read_excel(UBI_AR['p13'])\n",
    "p14_df=pd.read_excel(UBI_AR['p14'])\n",
    "p15_df=pd.read_excel(UBI_AR['p15'])\n",
    "p16_df=pd.read_excel(UBI_AR['p16'])\n",
    "p17_df=pd.read_excel(UBI_AR['p17'])\n",
    "p18_df=pd.read_excel(UBI_AR['p18'])\n",
    "p19_df=pd.read_excel(UBI_AR['p19'])\n",
    "p20_df=pd.read_excel(UBI_AR['p20'])\n",
    "p21_df=pd.read_excel(UBI_AR['p21'])\n",
    "p22_df=pd.read_excel(UBI_AR['p22'])\n",
    "p23_df=pd.read_excel(UBI_AR['p23'])\n",
    "p24_1_df=pd.read_excel(UBI_AR['p24_1'])\n",
    "p24_2_df=pd.read_excel(UBI_AR['p24_2'])\n",
    "p24_3_df=pd.read_excel(UBI_AR['p24_3'])\n",
    "p24_4_df=pd.read_excel(UBI_AR['p24_4'])\n",
    "p24_5_df=pd.read_excel(UBI_AR['p24_5'])\n",
    "p25_df=pd.read_excel(UBI_AR['p25'])\n",
    "p26_df=pd.read_excel(UBI_AR['p26'])\n",
    "p27_df=pd.read_excel(UBI_AR['p27'])\n",
    "p28_df=pd.read_excel(UBI_AR['p28'])\n",
    "p31_df=pd.read_excel(UBI_AR['p31'])\n",
    "p32_df=pd.read_excel(UBI_AR['p32'])\n",
    "p33_df=pd.read_excel(UBI_AR['p33'])\n",
    "p34_df=pd.read_excel(UBI_AR['p34'])\n",
    "p35_df=pd.read_excel(UBI_AR['p35'])\n",
    "p36_df=pd.read_excel(UBI_AR['p36'])\n",
    "p37_df=pd.read_excel(UBI_AR['p37'])\n",
    "p38_df=pd.read_excel(UBI_AR['p38'])\n",
    "p39_df=pd.read_excel(UBI_AR['p39'])\n",
    "\n",
    "entidades_2023=list(respuestas_2023_df['entidad'].sort_values())\n"
   ]
  },
  {
   "attachments": {},
   "cell_type": "markdown",
   "metadata": {},
   "source": [
    "# Introducción"
   ]
  },
  {
   "cell_type": "markdown",
   "metadata": {},
   "source": [
    "![Árbol de problemas](.//files/arbol.jpg)"
   ]
  },
  {
   "cell_type": "markdown",
   "metadata": {},
   "source": [
    "# Preguntas clave:\n",
    "\n",
    "- Efectos Indirectos:\n",
    "    1. Ausencia de gestión del conocimiento intra e intersectorial para el trabajo colaborativo.\n",
    "    2. Bajo compromiso directivo en la gestión innovadora de desafíos públicos.\n",
    "    3. Baja identificación de oportunidades en el talento humano para resolver desde la innovación.\n",
    "    4. Baja presencia entre los retos del ecosistema de iniciativas innovadoras para el control preventivo y la lucha anticorrupción.\n",
    "- Efectos Directos:\n",
    "    1. Baja participación ciudadana para identificar soluciones a problemas públicos.\n",
    "    2. Débil promoción en las entidades de una cultura de innovación entre su talento humano para afrontar desafíos públicos.\n",
    "- Problema Cental:\n",
    "    1. Baja confianza de la ciudadanía por desconeción de la gestión de gobierno con las expectativas ciudadanas.\n",
    "- Causas Directas:\n",
    "    1. Deficiencias en los habilitantes institucionales dedicados a la innovación pública.\n",
    "    2. Volatilidad del talento humano dedicado a promover temas de innovación.\n",
    "    3. Bajas capacidades institucionales para innovar.\n",
    "- Causas Indirectas:\n",
    "    1. Carencia de espacios para la construcción colectiva con la ciudadanía.\n",
    "    2. Brechas en la gestión del conocimiento y los empalmes contractuales.\n",
    "    3. Ausencia de garantías para procesos de largo aliento."
   ]
  },
  {
   "cell_type": "markdown",
   "metadata": {},
   "source": [
    "# Respuestas clave"
   ]
  },
  {
   "cell_type": "markdown",
   "metadata": {},
   "source": [
    "## Efectos Indirectos:\n",
    "1. Ausencia de gestión del conocimiento intra e intersectorial para el trabajo colaborativo.\n",
    "2. Bajo compromiso directivo en la gestión innovadora de desafíos públicos.\n",
    "3. Baja identificación de oportunidades en el talento humano para resolver desde la innovación.\n",
    "4. Baja presencia entre los retos del ecosistema de iniciativas innovadoras para el control preventivo y la lucha anticorrupción."
   ]
  },
  {
   "cell_type": "code",
   "execution_count": null,
   "metadata": {},
   "outputs": [],
   "source": []
  },
  {
   "cell_type": "markdown",
   "metadata": {},
   "source": [
    "## Efectos Directos:\n",
    "1. Baja participación ciudadana para identificar soluciones a problemas públicos.\n",
    "2. Débil promoción en las entidades de una cultura de innovación entre su talento humano para afrontar desafíos públicos."
   ]
  },
  {
   "cell_type": "code",
   "execution_count": null,
   "metadata": {},
   "outputs": [],
   "source": []
  },
  {
   "cell_type": "markdown",
   "metadata": {},
   "source": [
    "## Problema Cental:\n",
    "1. Baja confianza de la ciudadanía por desconeción de la gestión de gobierno con las expectativas ciudadanas."
   ]
  },
  {
   "cell_type": "code",
   "execution_count": null,
   "metadata": {},
   "outputs": [],
   "source": []
  },
  {
   "cell_type": "markdown",
   "metadata": {},
   "source": [
    "## Causas Directas:\n",
    "1. Deficiencias en los habilitantes institucionales dedicados a la innovación pública.\n",
    "2. Volatilidad del talento humano dedicado a promover temas de innovación.\n",
    "3. Bajas capacidades institucionales para innovar."
   ]
  },
  {
   "cell_type": "code",
   "execution_count": null,
   "metadata": {},
   "outputs": [],
   "source": []
  },
  {
   "cell_type": "markdown",
   "metadata": {},
   "source": [
    "## Causas Indirectas:\n",
    "1. Carencia de espacios para la construcción colectiva con la ciudadanía.\n",
    "2. Brechas en la gestión del conocimiento y los empalmes contractuales.\n",
    "3. Ausencia de garantías para procesos de largo aliento."
   ]
  },
  {
   "cell_type": "code",
   "execution_count": 57,
   "metadata": {},
   "outputs": [],
   "source": [
    "import plotly.express as px\n",
    "import pandas as pd\n",
    "\n",
    "df_melted = pd.melt(resultados_2023_df,\n",
    "                    id_vars=['Entidades', 'Sector'], \n",
    "                    value_vars=['Resultado IIP 2019', 'Resultado IIP 2021', 'Resultado IIP 2023'],\n",
    "                    var_name='Variable_Year', value_name='Value')\n",
    "\n",
    "df_melted['Value'] = pd.to_numeric(df_melted['Value'], errors='coerce')\n",
    "\n",
    "for sector in df_melted['Sector'].unique():\n",
    "    df_sector = df_melted[df_melted['Sector'] == sector]\n",
    "    \n",
    "    fig = px.line(df_sector, x='Variable_Year', y='Value', color='Entidades',\n",
    "                  labels={'Value': 'Puntaje', 'Entidades': 'Entidades', 'Variable_Year': 'Año Medición'},\n",
    "                  title=f'Tendencias de entidades en el IIP por sector: {sector}')\n",
    "\n",
    "    fig.update_layout(height=600, width=1200)\n",
    "    fig.write_image(f'./files/graficos/Sector_{sector}.png')\n",
    "    \n",
    "    fig.show()\n"
   ]
  },
  {
   "cell_type": "code",
   "execution_count": 58,
   "metadata": {},
   "outputs": [],
   "source": [
    "import plotly.express as px\n",
    "import pandas as pd\n",
    "\n",
    "df_melted = pd.melt(resultados_2023_df,\n",
    "                    id_vars=['Entidades', 'Sector'], \n",
    "                    value_vars=['COM 1 - 2019', 'COM 1 - 2021', 'COM 1 - 2023'],\n",
    "                    var_name='Variable_Year', value_name='Value')\n",
    "\n",
    "df_melted['Value'] = pd.to_numeric(df_melted['Value'], errors='coerce')\n",
    "\n",
    "for sector in df_melted['Sector'].unique():\n",
    "    df_sector = df_melted[df_melted['Sector'] == sector]\n",
    "    \n",
    "    fig = px.line(df_sector, x='Variable_Year', y='Value', color='Entidades',\n",
    "                  labels={'Value': 'Puntaje', 'Entidades': 'Entidades', 'Variable_Year': 'Año Medición'},\n",
    "                  title=f'Tendencias en Componente 1 (Capacidad Institucional) por sector: {sector}')\n",
    "\n",
    "    fig.update_layout(height=600, width=1200)\n",
    "    fig.write_image(f'./files/graficos/Comp_1_sector_{sector}.png')\n",
    "    \n",
    "    fig.show()\n"
   ]
  },
  {
   "cell_type": "code",
   "execution_count": 59,
   "metadata": {},
   "outputs": [],
   "source": [
    "import plotly.express as px\n",
    "import pandas as pd\n",
    "\n",
    "df_melted = pd.melt(resultados_2023_df,\n",
    "                    id_vars=['Entidades', 'Sector'], \n",
    "                    value_vars=['COM 2 - 2019', 'COM 2 - 2021', 'COM 2 - 2023'],\n",
    "                    var_name='Variable_Year', value_name='Value')\n",
    "\n",
    "df_melted['Value'] = pd.to_numeric(df_melted['Value'], errors='coerce')\n",
    "\n",
    "for sector in df_melted['Sector'].unique():\n",
    "    df_sector = df_melted[df_melted['Sector'] == sector]\n",
    "    \n",
    "    fig = px.line(df_sector, x='Variable_Year', y='Value', color='Entidades',\n",
    "                  labels={'Value': 'Puntaje', 'Entidades': 'Entidades', 'Variable_Year': 'Año Medición'},\n",
    "                  title=f'Tendencias en Componente 2 (Procesos y Prácticas) por sector: {sector}')\n",
    "\n",
    "    fig.update_layout(height=600, width=1200)\n",
    "    fig.write_image(f'./files/graficos/Comp_2_sector_{sector}.png')\n",
    "    \n",
    "    fig.show()\n"
   ]
  },
  {
   "cell_type": "code",
   "execution_count": 60,
   "metadata": {},
   "outputs": [],
   "source": [
    "import plotly.express as px\n",
    "import pandas as pd\n",
    "\n",
    "df_melted = pd.melt(resultados_2023_df,\n",
    "                    id_vars=['Entidades', 'Sector'], \n",
    "                    value_vars=['COM 3 - 2019', 'COM 3 - 2021', 'COM 3 - 2023'],\n",
    "                    var_name='Variable_Year', value_name='Value')\n",
    "\n",
    "df_melted['Value'] = pd.to_numeric(df_melted['Value'], errors='coerce')\n",
    "\n",
    "for sector in df_melted['Sector'].unique():\n",
    "    df_sector = df_melted[df_melted['Sector'] == sector]\n",
    "    \n",
    "    fig = px.line(df_sector, x='Variable_Year', y='Value', color='Entidades',\n",
    "                  labels={'Value': 'Puntaje', 'Entidades': 'Entidades', 'Variable_Year': 'Año Medición'},\n",
    "                  title=f'Tendencias en Componente 3 (Resultados) por sector: {sector}')\n",
    "\n",
    "    fig.update_layout(height=600, width=1200)\n",
    "    fig.write_image(f'./files/graficos/Comp_3_sector_{sector}.png')\n",
    "    \n",
    "    fig.show()\n"
   ]
  },
  {
   "cell_type": "code",
   "execution_count": 61,
   "metadata": {},
   "outputs": [],
   "source": [
    "import plotly.express as px\n",
    "import pandas as pd\n",
    "\n",
    "df_melted = pd.melt(resultados_2023_df,\n",
    "                    id_vars=['Entidades', 'Sector'], \n",
    "                    value_vars=['COM 4 - 2019', 'COM 4 - 2021', 'COM 4 - 2023'],\n",
    "                    var_name='Variable_Year', value_name='Value')\n",
    "\n",
    "df_melted['Value'] = pd.to_numeric(df_melted['Value'], errors='coerce')\n",
    "\n",
    "for sector in df_melted['Sector'].unique():\n",
    "    df_sector = df_melted[df_melted['Sector'] == sector]\n",
    "    \n",
    "    fig = px.line(df_sector, x='Variable_Year', y='Value', color='Entidades',\n",
    "                  labels={'Value': 'Puntaje', 'Entidades': 'Entidades', 'Variable_Year': 'Año Medición'},\n",
    "                  title=f'Tendencias en Componente 4 (Gestión del Conocimiento) por sector: {sector}')\n",
    "\n",
    "    fig.update_layout(height=600, width=1200)\n",
    "    fig.write_image(f'./files/graficos/Comp_4_sector_{sector}.png')\n",
    "    \n",
    "    fig.show()\n"
   ]
  }
 ],
 "metadata": {
  "kernelspec": {
   "display_name": "stats",
   "language": "python",
   "name": "python3"
  },
  "language_info": {
   "codemirror_mode": {
    "name": "ipython",
    "version": 3
   },
   "file_extension": ".py",
   "mimetype": "text/x-python",
   "name": "python",
   "nbconvert_exporter": "python",
   "pygments_lexer": "ipython3",
   "version": "3.11.3"
  },
  "orig_nbformat": 4,
  "vscode": {
   "interpreter": {
    "hash": "ba27c4298b2ebc30e8fde991ebe0d4a234cba750f04ffbd895f48b5db1ffcbce"
   }
  }
 },
 "nbformat": 4,
 "nbformat_minor": 2
}
