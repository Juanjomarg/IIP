{
 "cells": [
  {
   "cell_type": "markdown",
   "metadata": {},
   "source": [
    "# Configuración - Ignórese"
   ]
  },
  {
   "cell_type": "code",
   "execution_count": 22,
   "metadata": {},
   "outputs": [
    {
     "name": "stdout",
     "output_type": "stream",
     "text": [
      "Requirement already satisfied: ansi2html==1.8.0 in /home/usurper/.pyenv/versions/3.11.3/envs/stats/lib/python3.11/site-packages (from -r ./requirements.txt (line 1)) (1.8.0)\n",
      "Requirement already satisfied: anyio==4.2.0 in /home/usurper/.pyenv/versions/3.11.3/envs/stats/lib/python3.11/site-packages (from -r ./requirements.txt (line 2)) (4.2.0)\n",
      "Requirement already satisfied: argon2-cffi==23.1.0 in /home/usurper/.pyenv/versions/3.11.3/envs/stats/lib/python3.11/site-packages (from -r ./requirements.txt (line 3)) (23.1.0)\n",
      "Requirement already satisfied: argon2-cffi-bindings==21.2.0 in /home/usurper/.pyenv/versions/3.11.3/envs/stats/lib/python3.11/site-packages (from -r ./requirements.txt (line 4)) (21.2.0)\n",
      "Requirement already satisfied: arrow==1.3.0 in /home/usurper/.pyenv/versions/3.11.3/envs/stats/lib/python3.11/site-packages (from -r ./requirements.txt (line 5)) (1.3.0)\n",
      "Requirement already satisfied: asttokens==2.4.1 in /home/usurper/.pyenv/versions/3.11.3/envs/stats/lib/python3.11/site-packages (from -r ./requirements.txt (line 6)) (2.4.1)\n",
      "Requirement already satisfied: async-lru==2.0.4 in /home/usurper/.pyenv/versions/3.11.3/envs/stats/lib/python3.11/site-packages (from -r ./requirements.txt (line 7)) (2.0.4)\n",
      "Requirement already satisfied: attrs==23.2.0 in /home/usurper/.pyenv/versions/3.11.3/envs/stats/lib/python3.11/site-packages (from -r ./requirements.txt (line 8)) (23.2.0)\n",
      "Requirement already satisfied: Babel==2.14.0 in /home/usurper/.pyenv/versions/3.11.3/envs/stats/lib/python3.11/site-packages (from -r ./requirements.txt (line 9)) (2.14.0)\n",
      "Requirement already satisfied: beautifulsoup4==4.12.3 in /home/usurper/.pyenv/versions/3.11.3/envs/stats/lib/python3.11/site-packages (from -r ./requirements.txt (line 10)) (4.12.3)\n",
      "Requirement already satisfied: bleach==6.1.0 in /home/usurper/.pyenv/versions/3.11.3/envs/stats/lib/python3.11/site-packages (from -r ./requirements.txt (line 11)) (6.1.0)\n",
      "Requirement already satisfied: blinker==1.7.0 in /home/usurper/.pyenv/versions/3.11.3/envs/stats/lib/python3.11/site-packages (from -r ./requirements.txt (line 12)) (1.7.0)\n",
      "Requirement already satisfied: certifi==2023.11.17 in /home/usurper/.pyenv/versions/3.11.3/envs/stats/lib/python3.11/site-packages (from -r ./requirements.txt (line 13)) (2023.11.17)\n",
      "Requirement already satisfied: cffi==1.16.0 in /home/usurper/.pyenv/versions/3.11.3/envs/stats/lib/python3.11/site-packages (from -r ./requirements.txt (line 14)) (1.16.0)\n",
      "Requirement already satisfied: charset-normalizer==3.3.2 in /home/usurper/.pyenv/versions/3.11.3/envs/stats/lib/python3.11/site-packages (from -r ./requirements.txt (line 15)) (3.3.2)\n",
      "Requirement already satisfied: click==8.1.7 in /home/usurper/.pyenv/versions/3.11.3/envs/stats/lib/python3.11/site-packages (from -r ./requirements.txt (line 16)) (8.1.7)\n",
      "Requirement already satisfied: comm==0.2.1 in /home/usurper/.pyenv/versions/3.11.3/envs/stats/lib/python3.11/site-packages (from -r ./requirements.txt (line 17)) (0.2.1)\n",
      "Requirement already satisfied: dash==2.14.2 in /home/usurper/.pyenv/versions/3.11.3/envs/stats/lib/python3.11/site-packages (from -r ./requirements.txt (line 18)) (2.14.2)\n",
      "Requirement already satisfied: dash-bootstrap-components==1.5.0 in /home/usurper/.pyenv/versions/3.11.3/envs/stats/lib/python3.11/site-packages (from -r ./requirements.txt (line 19)) (1.5.0)\n",
      "Requirement already satisfied: dash-core-components==2.0.0 in /home/usurper/.pyenv/versions/3.11.3/envs/stats/lib/python3.11/site-packages (from -r ./requirements.txt (line 20)) (2.0.0)\n",
      "Requirement already satisfied: dash-html-components==2.0.0 in /home/usurper/.pyenv/versions/3.11.3/envs/stats/lib/python3.11/site-packages (from -r ./requirements.txt (line 21)) (2.0.0)\n",
      "Requirement already satisfied: dash-table==5.0.0 in /home/usurper/.pyenv/versions/3.11.3/envs/stats/lib/python3.11/site-packages (from -r ./requirements.txt (line 22)) (5.0.0)\n",
      "Requirement already satisfied: debugpy==1.8.0 in /home/usurper/.pyenv/versions/3.11.3/envs/stats/lib/python3.11/site-packages (from -r ./requirements.txt (line 23)) (1.8.0)\n",
      "Requirement already satisfied: decorator==5.1.1 in /home/usurper/.pyenv/versions/3.11.3/envs/stats/lib/python3.11/site-packages (from -r ./requirements.txt (line 24)) (5.1.1)\n",
      "Requirement already satisfied: defusedxml==0.7.1 in /home/usurper/.pyenv/versions/3.11.3/envs/stats/lib/python3.11/site-packages (from -r ./requirements.txt (line 25)) (0.7.1)\n",
      "Requirement already satisfied: entrypoints==0.4 in /home/usurper/.pyenv/versions/3.11.3/envs/stats/lib/python3.11/site-packages (from -r ./requirements.txt (line 26)) (0.4)\n",
      "Requirement already satisfied: et-xmlfile==1.1.0 in /home/usurper/.pyenv/versions/3.11.3/envs/stats/lib/python3.11/site-packages (from -r ./requirements.txt (line 27)) (1.1.0)\n",
      "Requirement already satisfied: executing==2.0.1 in /home/usurper/.pyenv/versions/3.11.3/envs/stats/lib/python3.11/site-packages (from -r ./requirements.txt (line 28)) (2.0.1)\n",
      "Requirement already satisfied: fastjsonschema==2.19.1 in /home/usurper/.pyenv/versions/3.11.3/envs/stats/lib/python3.11/site-packages (from -r ./requirements.txt (line 29)) (2.19.1)\n",
      "Requirement already satisfied: Flask==3.0.0 in /home/usurper/.pyenv/versions/3.11.3/envs/stats/lib/python3.11/site-packages (from -r ./requirements.txt (line 30)) (3.0.0)\n",
      "Requirement already satisfied: fqdn==1.5.1 in /home/usurper/.pyenv/versions/3.11.3/envs/stats/lib/python3.11/site-packages (from -r ./requirements.txt (line 31)) (1.5.1)\n",
      "Requirement already satisfied: idna==3.6 in /home/usurper/.pyenv/versions/3.11.3/envs/stats/lib/python3.11/site-packages (from -r ./requirements.txt (line 32)) (3.6)\n",
      "Requirement already satisfied: importlib-metadata==6.8.0 in /home/usurper/.pyenv/versions/3.11.3/envs/stats/lib/python3.11/site-packages (from -r ./requirements.txt (line 33)) (6.8.0)\n",
      "Requirement already satisfied: ipykernel==6.29.0 in /home/usurper/.pyenv/versions/3.11.3/envs/stats/lib/python3.11/site-packages (from -r ./requirements.txt (line 34)) (6.29.0)\n",
      "Requirement already satisfied: ipython==8.21.0 in /home/usurper/.pyenv/versions/3.11.3/envs/stats/lib/python3.11/site-packages (from -r ./requirements.txt (line 35)) (8.21.0)\n",
      "Requirement already satisfied: isoduration==20.11.0 in /home/usurper/.pyenv/versions/3.11.3/envs/stats/lib/python3.11/site-packages (from -r ./requirements.txt (line 36)) (20.11.0)\n",
      "Requirement already satisfied: itsdangerous==2.1.2 in /home/usurper/.pyenv/versions/3.11.3/envs/stats/lib/python3.11/site-packages (from -r ./requirements.txt (line 37)) (2.1.2)\n",
      "Requirement already satisfied: jedi==0.19.1 in /home/usurper/.pyenv/versions/3.11.3/envs/stats/lib/python3.11/site-packages (from -r ./requirements.txt (line 38)) (0.19.1)\n",
      "Requirement already satisfied: Jinja2==3.1.2 in /home/usurper/.pyenv/versions/3.11.3/envs/stats/lib/python3.11/site-packages (from -r ./requirements.txt (line 39)) (3.1.2)\n",
      "Requirement already satisfied: json5==0.9.14 in /home/usurper/.pyenv/versions/3.11.3/envs/stats/lib/python3.11/site-packages (from -r ./requirements.txt (line 40)) (0.9.14)\n",
      "Requirement already satisfied: jsonpointer==2.4 in /home/usurper/.pyenv/versions/3.11.3/envs/stats/lib/python3.11/site-packages (from -r ./requirements.txt (line 41)) (2.4)\n",
      "Requirement already satisfied: jsonschema==4.21.1 in /home/usurper/.pyenv/versions/3.11.3/envs/stats/lib/python3.11/site-packages (from -r ./requirements.txt (line 42)) (4.21.1)\n",
      "Requirement already satisfied: jsonschema-specifications==2023.12.1 in /home/usurper/.pyenv/versions/3.11.3/envs/stats/lib/python3.11/site-packages (from -r ./requirements.txt (line 43)) (2023.12.1)\n",
      "Requirement already satisfied: jupyter-events==0.9.0 in /home/usurper/.pyenv/versions/3.11.3/envs/stats/lib/python3.11/site-packages (from -r ./requirements.txt (line 44)) (0.9.0)\n",
      "Requirement already satisfied: jupyter-lsp==2.2.2 in /home/usurper/.pyenv/versions/3.11.3/envs/stats/lib/python3.11/site-packages (from -r ./requirements.txt (line 45)) (2.2.2)\n",
      "Requirement already satisfied: jupyter_client==7.4.9 in /home/usurper/.pyenv/versions/3.11.3/envs/stats/lib/python3.11/site-packages (from -r ./requirements.txt (line 46)) (7.4.9)\n",
      "Requirement already satisfied: jupyter_core==5.7.1 in /home/usurper/.pyenv/versions/3.11.3/envs/stats/lib/python3.11/site-packages (from -r ./requirements.txt (line 47)) (5.7.1)\n",
      "Requirement already satisfied: jupyter_server==2.12.5 in /home/usurper/.pyenv/versions/3.11.3/envs/stats/lib/python3.11/site-packages (from -r ./requirements.txt (line 48)) (2.12.5)\n",
      "Requirement already satisfied: jupyter_server_terminals==0.5.2 in /home/usurper/.pyenv/versions/3.11.3/envs/stats/lib/python3.11/site-packages (from -r ./requirements.txt (line 49)) (0.5.2)\n",
      "Requirement already satisfied: jupyterlab==4.0.12 in /home/usurper/.pyenv/versions/3.11.3/envs/stats/lib/python3.11/site-packages (from -r ./requirements.txt (line 50)) (4.0.12)\n",
      "Requirement already satisfied: jupyterlab_pygments==0.3.0 in /home/usurper/.pyenv/versions/3.11.3/envs/stats/lib/python3.11/site-packages (from -r ./requirements.txt (line 51)) (0.3.0)\n",
      "Requirement already satisfied: jupyterlab_server==2.25.2 in /home/usurper/.pyenv/versions/3.11.3/envs/stats/lib/python3.11/site-packages (from -r ./requirements.txt (line 52)) (2.25.2)\n",
      "Requirement already satisfied: kaleido==0.2.1 in /home/usurper/.pyenv/versions/3.11.3/envs/stats/lib/python3.11/site-packages (from -r ./requirements.txt (line 53)) (0.2.1)\n",
      "Requirement already satisfied: MarkupSafe==2.1.3 in /home/usurper/.pyenv/versions/3.11.3/envs/stats/lib/python3.11/site-packages (from -r ./requirements.txt (line 54)) (2.1.3)\n",
      "Requirement already satisfied: matplotlib-inline==0.1.6 in /home/usurper/.pyenv/versions/3.11.3/envs/stats/lib/python3.11/site-packages (from -r ./requirements.txt (line 55)) (0.1.6)\n",
      "Requirement already satisfied: mistune==3.0.2 in /home/usurper/.pyenv/versions/3.11.3/envs/stats/lib/python3.11/site-packages (from -r ./requirements.txt (line 56)) (3.0.2)\n",
      "Requirement already satisfied: nbclient==0.9.0 in /home/usurper/.pyenv/versions/3.11.3/envs/stats/lib/python3.11/site-packages (from -r ./requirements.txt (line 57)) (0.9.0)\n",
      "Requirement already satisfied: nbconvert==7.14.2 in /home/usurper/.pyenv/versions/3.11.3/envs/stats/lib/python3.11/site-packages (from -r ./requirements.txt (line 58)) (7.14.2)\n",
      "Requirement already satisfied: nbformat==5.9.2 in /home/usurper/.pyenv/versions/3.11.3/envs/stats/lib/python3.11/site-packages (from -r ./requirements.txt (line 59)) (5.9.2)\n",
      "Requirement already satisfied: nest-asyncio==1.5.8 in /home/usurper/.pyenv/versions/3.11.3/envs/stats/lib/python3.11/site-packages (from -r ./requirements.txt (line 60)) (1.5.8)\n",
      "Requirement already satisfied: notebook==7.0.7 in /home/usurper/.pyenv/versions/3.11.3/envs/stats/lib/python3.11/site-packages (from -r ./requirements.txt (line 61)) (7.0.7)\n",
      "Requirement already satisfied: notebook_shim==0.2.3 in /home/usurper/.pyenv/versions/3.11.3/envs/stats/lib/python3.11/site-packages (from -r ./requirements.txt (line 62)) (0.2.3)\n",
      "Requirement already satisfied: numpy==1.26.2 in /home/usurper/.pyenv/versions/3.11.3/envs/stats/lib/python3.11/site-packages (from -r ./requirements.txt (line 63)) (1.26.2)\n",
      "Requirement already satisfied: openpyxl==3.1.2 in /home/usurper/.pyenv/versions/3.11.3/envs/stats/lib/python3.11/site-packages (from -r ./requirements.txt (line 64)) (3.1.2)\n",
      "Requirement already satisfied: overrides==7.7.0 in /home/usurper/.pyenv/versions/3.11.3/envs/stats/lib/python3.11/site-packages (from -r ./requirements.txt (line 65)) (7.7.0)\n",
      "Requirement already satisfied: packaging==23.2 in /home/usurper/.pyenv/versions/3.11.3/envs/stats/lib/python3.11/site-packages (from -r ./requirements.txt (line 66)) (23.2)\n",
      "Requirement already satisfied: pandas==2.1.3 in /home/usurper/.pyenv/versions/3.11.3/envs/stats/lib/python3.11/site-packages (from -r ./requirements.txt (line 67)) (2.1.3)\n",
      "Requirement already satisfied: pandocfilters==1.5.1 in /home/usurper/.pyenv/versions/3.11.3/envs/stats/lib/python3.11/site-packages (from -r ./requirements.txt (line 68)) (1.5.1)\n",
      "Requirement already satisfied: parso==0.8.3 in /home/usurper/.pyenv/versions/3.11.3/envs/stats/lib/python3.11/site-packages (from -r ./requirements.txt (line 69)) (0.8.3)\n",
      "Requirement already satisfied: pexpect==4.9.0 in /home/usurper/.pyenv/versions/3.11.3/envs/stats/lib/python3.11/site-packages (from -r ./requirements.txt (line 70)) (4.9.0)\n",
      "Requirement already satisfied: platformdirs==4.2.0 in /home/usurper/.pyenv/versions/3.11.3/envs/stats/lib/python3.11/site-packages (from -r ./requirements.txt (line 71)) (4.2.0)\n",
      "Requirement already satisfied: plotly==5.18.0 in /home/usurper/.pyenv/versions/3.11.3/envs/stats/lib/python3.11/site-packages (from -r ./requirements.txt (line 72)) (5.18.0)\n",
      "Requirement already satisfied: prometheus-client==0.19.0 in /home/usurper/.pyenv/versions/3.11.3/envs/stats/lib/python3.11/site-packages (from -r ./requirements.txt (line 73)) (0.19.0)\n",
      "Requirement already satisfied: prompt-toolkit==3.0.43 in /home/usurper/.pyenv/versions/3.11.3/envs/stats/lib/python3.11/site-packages (from -r ./requirements.txt (line 74)) (3.0.43)\n",
      "Requirement already satisfied: psutil==5.9.8 in /home/usurper/.pyenv/versions/3.11.3/envs/stats/lib/python3.11/site-packages (from -r ./requirements.txt (line 75)) (5.9.8)\n",
      "Requirement already satisfied: ptyprocess==0.7.0 in /home/usurper/.pyenv/versions/3.11.3/envs/stats/lib/python3.11/site-packages (from -r ./requirements.txt (line 76)) (0.7.0)\n",
      "Requirement already satisfied: pure-eval==0.2.2 in /home/usurper/.pyenv/versions/3.11.3/envs/stats/lib/python3.11/site-packages (from -r ./requirements.txt (line 77)) (0.2.2)\n",
      "Requirement already satisfied: pycparser==2.21 in /home/usurper/.pyenv/versions/3.11.3/envs/stats/lib/python3.11/site-packages (from -r ./requirements.txt (line 78)) (2.21)\n",
      "Requirement already satisfied: Pygments==2.17.2 in /home/usurper/.pyenv/versions/3.11.3/envs/stats/lib/python3.11/site-packages (from -r ./requirements.txt (line 79)) (2.17.2)\n",
      "Requirement already satisfied: python-dateutil==2.8.2 in /home/usurper/.pyenv/versions/3.11.3/envs/stats/lib/python3.11/site-packages (from -r ./requirements.txt (line 80)) (2.8.2)\n",
      "Requirement already satisfied: python-json-logger==2.0.7 in /home/usurper/.pyenv/versions/3.11.3/envs/stats/lib/python3.11/site-packages (from -r ./requirements.txt (line 81)) (2.0.7)\n",
      "Requirement already satisfied: pytz==2023.3.post1 in /home/usurper/.pyenv/versions/3.11.3/envs/stats/lib/python3.11/site-packages (from -r ./requirements.txt (line 82)) (2023.3.post1)\n",
      "Requirement already satisfied: PyYAML==6.0.1 in /home/usurper/.pyenv/versions/3.11.3/envs/stats/lib/python3.11/site-packages (from -r ./requirements.txt (line 83)) (6.0.1)\n",
      "Requirement already satisfied: pyzmq==24.0.1 in /home/usurper/.pyenv/versions/3.11.3/envs/stats/lib/python3.11/site-packages (from -r ./requirements.txt (line 84)) (24.0.1)\n",
      "Requirement already satisfied: referencing==0.33.0 in /home/usurper/.pyenv/versions/3.11.3/envs/stats/lib/python3.11/site-packages (from -r ./requirements.txt (line 85)) (0.33.0)\n",
      "Requirement already satisfied: requests==2.31.0 in /home/usurper/.pyenv/versions/3.11.3/envs/stats/lib/python3.11/site-packages (from -r ./requirements.txt (line 86)) (2.31.0)\n",
      "Requirement already satisfied: retrying==1.3.4 in /home/usurper/.pyenv/versions/3.11.3/envs/stats/lib/python3.11/site-packages (from -r ./requirements.txt (line 87)) (1.3.4)\n",
      "Requirement already satisfied: rfc3339-validator==0.1.4 in /home/usurper/.pyenv/versions/3.11.3/envs/stats/lib/python3.11/site-packages (from -r ./requirements.txt (line 88)) (0.1.4)\n",
      "Requirement already satisfied: rfc3986-validator==0.1.1 in /home/usurper/.pyenv/versions/3.11.3/envs/stats/lib/python3.11/site-packages (from -r ./requirements.txt (line 89)) (0.1.1)\n",
      "Requirement already satisfied: rpds-py==0.17.1 in /home/usurper/.pyenv/versions/3.11.3/envs/stats/lib/python3.11/site-packages (from -r ./requirements.txt (line 90)) (0.17.1)\n",
      "Requirement already satisfied: Send2Trash==1.8.2 in /home/usurper/.pyenv/versions/3.11.3/envs/stats/lib/python3.11/site-packages (from -r ./requirements.txt (line 91)) (1.8.2)\n",
      "Requirement already satisfied: six==1.16.0 in /home/usurper/.pyenv/versions/3.11.3/envs/stats/lib/python3.11/site-packages (from -r ./requirements.txt (line 92)) (1.16.0)\n",
      "Requirement already satisfied: sniffio==1.3.0 in /home/usurper/.pyenv/versions/3.11.3/envs/stats/lib/python3.11/site-packages (from -r ./requirements.txt (line 93)) (1.3.0)\n",
      "Requirement already satisfied: soupsieve==2.5 in /home/usurper/.pyenv/versions/3.11.3/envs/stats/lib/python3.11/site-packages (from -r ./requirements.txt (line 94)) (2.5)\n",
      "Requirement already satisfied: stack-data==0.6.3 in /home/usurper/.pyenv/versions/3.11.3/envs/stats/lib/python3.11/site-packages (from -r ./requirements.txt (line 95)) (0.6.3)\n",
      "Requirement already satisfied: tenacity==8.2.3 in /home/usurper/.pyenv/versions/3.11.3/envs/stats/lib/python3.11/site-packages (from -r ./requirements.txt (line 96)) (8.2.3)\n",
      "Requirement already satisfied: terminado==0.18.0 in /home/usurper/.pyenv/versions/3.11.3/envs/stats/lib/python3.11/site-packages (from -r ./requirements.txt (line 97)) (0.18.0)\n",
      "Requirement already satisfied: tinycss2==1.2.1 in /home/usurper/.pyenv/versions/3.11.3/envs/stats/lib/python3.11/site-packages (from -r ./requirements.txt (line 98)) (1.2.1)\n",
      "Requirement already satisfied: tornado==6.4 in /home/usurper/.pyenv/versions/3.11.3/envs/stats/lib/python3.11/site-packages (from -r ./requirements.txt (line 99)) (6.4)\n",
      "Requirement already satisfied: traitlets==5.14.1 in /home/usurper/.pyenv/versions/3.11.3/envs/stats/lib/python3.11/site-packages (from -r ./requirements.txt (line 100)) (5.14.1)\n",
      "Requirement already satisfied: types-python-dateutil==2.8.19.20240106 in /home/usurper/.pyenv/versions/3.11.3/envs/stats/lib/python3.11/site-packages (from -r ./requirements.txt (line 101)) (2.8.19.20240106)\n",
      "Requirement already satisfied: typing_extensions==4.8.0 in /home/usurper/.pyenv/versions/3.11.3/envs/stats/lib/python3.11/site-packages (from -r ./requirements.txt (line 102)) (4.8.0)\n",
      "Requirement already satisfied: tzdata==2023.3 in /home/usurper/.pyenv/versions/3.11.3/envs/stats/lib/python3.11/site-packages (from -r ./requirements.txt (line 103)) (2023.3)\n",
      "Requirement already satisfied: uri-template==1.3.0 in /home/usurper/.pyenv/versions/3.11.3/envs/stats/lib/python3.11/site-packages (from -r ./requirements.txt (line 104)) (1.3.0)\n",
      "Requirement already satisfied: urllib3==2.1.0 in /home/usurper/.pyenv/versions/3.11.3/envs/stats/lib/python3.11/site-packages (from -r ./requirements.txt (line 105)) (2.1.0)\n",
      "Requirement already satisfied: wcwidth==0.2.13 in /home/usurper/.pyenv/versions/3.11.3/envs/stats/lib/python3.11/site-packages (from -r ./requirements.txt (line 106)) (0.2.13)\n",
      "Requirement already satisfied: webcolors==1.13 in /home/usurper/.pyenv/versions/3.11.3/envs/stats/lib/python3.11/site-packages (from -r ./requirements.txt (line 107)) (1.13)\n",
      "Requirement already satisfied: webencodings==0.5.1 in /home/usurper/.pyenv/versions/3.11.3/envs/stats/lib/python3.11/site-packages (from -r ./requirements.txt (line 108)) (0.5.1)\n",
      "Requirement already satisfied: websocket-client==1.7.0 in /home/usurper/.pyenv/versions/3.11.3/envs/stats/lib/python3.11/site-packages (from -r ./requirements.txt (line 109)) (1.7.0)\n",
      "Requirement already satisfied: Werkzeug==3.0.1 in /home/usurper/.pyenv/versions/3.11.3/envs/stats/lib/python3.11/site-packages (from -r ./requirements.txt (line 110)) (3.0.1)\n",
      "Requirement already satisfied: zipp==3.17.0 in /home/usurper/.pyenv/versions/3.11.3/envs/stats/lib/python3.11/site-packages (from -r ./requirements.txt (line 111)) (3.17.0)\n",
      "Requirement already satisfied: setuptools in /home/usurper/.pyenv/versions/3.11.3/envs/stats/lib/python3.11/site-packages (from dash==2.14.2->-r ./requirements.txt (line 18)) (65.5.0)\n"
     ]
    }
   ],
   "source": [
    "!pip3 install -r ./requirements.txt\n",
    "\n",
    "#Descomente esa línea si su ambiente aún no está preparado o carece de las librerías necesarias."
   ]
  },
  {
   "cell_type": "code",
   "execution_count": 23,
   "metadata": {},
   "outputs": [],
   "source": [
    "import pandas as pd\n",
    "import plotly as pt\n",
    "import plotly.express as px\n",
    "import plotly.graph_objects as go"
   ]
  },
  {
   "cell_type": "code",
   "execution_count": 24,
   "metadata": {},
   "outputs": [],
   "source": [
    "UBI_AR={\n",
    "    'p1':'./files/separadas/repeat_p1.xlsx',\n",
    "    'p2':'./files/separadas/repeat_p2.xlsx',\n",
    "    'p13':'./files/separadas/repeat_p13.xlsx',\n",
    "    'p14':'./files/separadas/repeat_p14.xlsx',\n",
    "    'p15':'./files/separadas/repeat_p15.xlsx',\n",
    "    'p16':'./files/separadas/repeat_p16.xlsx',\n",
    "    'p17':'./files/separadas/repeat_p17.xlsx',\n",
    "    'p18':'./files/separadas/repeat_p18.xlsx',\n",
    "    'p19':'./files/separadas/repeat_p19.xlsx',\n",
    "    'p20':'./files/separadas/repeat_p20.xlsx',\n",
    "    'p21':'./files/separadas/repeat_p21.xlsx',\n",
    "    'p22':'./files/separadas/repeat_p22.xlsx',\n",
    "    'p23':'./files/separadas/repeat_p23.xlsx',\n",
    "    'p24_1':'./files/separadas/repeat_p24_1.xlsx',\n",
    "    'p24_2':'./files/separadas/repeat_p24_2.xlsx',\n",
    "    'p24_3':'./files/separadas/repeat_p24_3.xlsx',\n",
    "    'p24_4':'./files/separadas/repeat_p24_4.xlsx',\n",
    "    'p24_5':'./files/separadas/repeat_p24_5.xlsx',\n",
    "    'p25':'./files/separadas/repeat_p25.xlsx',\n",
    "    'p26':'./files/separadas/repeat_p26.xlsx',\n",
    "    'p27':'./files/separadas/repeat_p27.xlsx',\n",
    "    'p28':'./files/separadas/repeat_p28.xlsx',\n",
    "    'p31':'./files/separadas/repeat_p31.xlsx',\n",
    "    'p32':'./files/separadas/repeat_p32.xlsx',\n",
    "    'p33':'./files/separadas/repeat_p33.xlsx',\n",
    "    'p34':'./files/separadas/repeat_p34.xlsx',\n",
    "    'p35':'./files/separadas/repeat_p35.xlsx',\n",
    "    'p36':'./files/separadas/repeat_p36.xlsx',\n",
    "    'p37':'./files/separadas/repeat_p37.xlsx',\n",
    "    'p38':'./files/separadas/repeat_p38.xlsx',\n",
    "    'p39':'./files/separadas/repeat_p39.xlsx',\n",
    "    'preguntas':'./files/preguntas/leyenda_columnas.xlsx',\n",
    "    'respuestas_2021':'./files/respuestas/2021/respuestas_2021.xlsx',\n",
    "    'respuestas_2023':'./files/respuestas/2023/respuestas_2023.xlsx',\n",
    "    'resultados_2021':'./files/resultados/2021/resultados_2021.xlsx',\n",
    "    'resultados_2023':'./files/resultados/2023/resultados_2023.xlsx',\n",
    "    }\n",
    "\n",
    "\n",
    "preguntas_df=pd.read_excel(UBI_AR['preguntas'])\n",
    "\n",
    "respuestas_2021_df=pd.read_excel(UBI_AR['respuestas_2021'],)\n",
    "respuestas_2023_df=pd.read_excel(UBI_AR['respuestas_2023'])\n",
    "\n",
    "resultados_2021_df=pd.read_excel(UBI_AR['resultados_2021'])\n",
    "resultados_2023_df=pd.read_excel(UBI_AR['resultados_2023'])\n",
    "\n",
    "p1_df=pd.read_excel(UBI_AR['p1'])\n",
    "p2_df=pd.read_excel(UBI_AR['p2'])\n",
    "p13_df=pd.read_excel(UBI_AR['p13'])\n",
    "p14_df=pd.read_excel(UBI_AR['p14'])\n",
    "p15_df=pd.read_excel(UBI_AR['p15'])\n",
    "p16_df=pd.read_excel(UBI_AR['p16'])\n",
    "p17_df=pd.read_excel(UBI_AR['p17'])\n",
    "p18_df=pd.read_excel(UBI_AR['p18'])\n",
    "p19_df=pd.read_excel(UBI_AR['p19'])\n",
    "p20_df=pd.read_excel(UBI_AR['p20'])\n",
    "p21_df=pd.read_excel(UBI_AR['p21'])\n",
    "p22_df=pd.read_excel(UBI_AR['p22'])\n",
    "p23_df=pd.read_excel(UBI_AR['p23'])\n",
    "p24_1_df=pd.read_excel(UBI_AR['p24_1'])\n",
    "p24_2_df=pd.read_excel(UBI_AR['p24_2'])\n",
    "p24_3_df=pd.read_excel(UBI_AR['p24_3'])\n",
    "p24_4_df=pd.read_excel(UBI_AR['p24_4'])\n",
    "p24_5_df=pd.read_excel(UBI_AR['p24_5'])\n",
    "p25_df=pd.read_excel(UBI_AR['p25'])\n",
    "p26_df=pd.read_excel(UBI_AR['p26'])\n",
    "p27_df=pd.read_excel(UBI_AR['p27'])\n",
    "p28_df=pd.read_excel(UBI_AR['p28'])\n",
    "p31_df=pd.read_excel(UBI_AR['p31'])\n",
    "p32_df=pd.read_excel(UBI_AR['p32'])\n",
    "p33_df=pd.read_excel(UBI_AR['p33'])\n",
    "p34_df=pd.read_excel(UBI_AR['p34'])\n",
    "p35_df=pd.read_excel(UBI_AR['p35'])\n",
    "p36_df=pd.read_excel(UBI_AR['p36'])\n",
    "p37_df=pd.read_excel(UBI_AR['p37'])\n",
    "p38_df=pd.read_excel(UBI_AR['p38'])\n",
    "p39_df=pd.read_excel(UBI_AR['p39'])\n",
    "\n",
    "entidades_2023=list(respuestas_2023_df['entidad'].sort_values())\n"
   ]
  },
  {
   "attachments": {},
   "cell_type": "markdown",
   "metadata": {},
   "source": [
    "# Introducción"
   ]
  },
  {
   "cell_type": "markdown",
   "metadata": {},
   "source": [
    "![Árbol de problemas](.//files/arbol.jpg)"
   ]
  },
  {
   "cell_type": "markdown",
   "metadata": {},
   "source": [
    "# Preguntas clave:\n",
    "\n",
    "- Efectos Indirectos:\n",
    "    1. Ausencia de gestión del conocimiento intra e intersectorial para el trabajo colaborativo.\n",
    "    2. Bajo compromiso directivo en la gestión innovadora de desafíos públicos.\n",
    "    3. Baja identificación de oportunidades en el talento humano para resolver desde la innovación.\n",
    "    4. Baja presencia entre los retos del ecosistema de iniciativas innovadoras para el control preventivo y la lucha anticorrupción.\n",
    "- Efectos Directos:\n",
    "    1. Baja participación ciudadana para identificar soluciones a problemas públicos.\n",
    "    2. Débil promoción en las entidades de una cultura de innovación entre su talento humano para afrontar desafíos públicos.\n",
    "- Problema Cental:\n",
    "    1. Baja confianza de la ciudadanía por desconeción de la gestión de gobierno con las expectativas ciudadanas.\n",
    "- Causas Directas:\n",
    "    1. Deficiencias en los habilitantes institucionales dedicados a la innovación pública.\n",
    "    2. Volatilidad del talento humano dedicado a promover temas de innovación.\n",
    "- Causas Indirectas:\n",
    "    1. Carencia de espacios para la construcción colectiva con la ciudadanía.\n",
    "    2. Brechas en la gestión del conocimiento y los empalmes contractuales.\n",
    "    3. Ausencia de garantías para procesos de largo aliento."
   ]
  },
  {
   "cell_type": "markdown",
   "metadata": {},
   "source": [
    "# Respuestas clave"
   ]
  },
  {
   "cell_type": "markdown",
   "metadata": {},
   "source": [
    "## Efectos Indirectos:\n",
    "1. Ausencia de gestión del conocimiento intra e intersectorial para el trabajo colaborativo.\n",
    "    - 34, 36 y 39\n",
    "        - Desempeño general de entidades en esa pregunta es menor al 50%\n",
    "    - Cuántas entidades reportaron algo\n"
   ]
  },
  {
   "cell_type": "code",
   "execution_count": null,
   "metadata": {},
   "outputs": [],
   "source": []
  },
  {
   "cell_type": "markdown",
   "metadata": {},
   "source": [
    "2. Bajo compromiso directivo en la gestión innovadora de desafíos públicos.\n",
    "    - 2, 10 - 12"
   ]
  },
  {
   "cell_type": "code",
   "execution_count": null,
   "metadata": {},
   "outputs": [],
   "source": []
  },
  {
   "cell_type": "markdown",
   "metadata": {},
   "source": [
    "3. Baja identificación de oportunidades en el talento humano para resolver desde la innovación.\n",
    "    - 16 por debajo del 50"
   ]
  },
  {
   "cell_type": "code",
   "execution_count": null,
   "metadata": {},
   "outputs": [],
   "source": []
  },
  {
   "cell_type": "markdown",
   "metadata": {},
   "source": [
    "\n",
    "4. Baja presencia entre los retos del ecosistema de iniciativas innovadoras para el control preventivo y la lucha anticorrupción.\n",
    "    - 23 y hablar en genérico"
   ]
  },
  {
   "cell_type": "code",
   "execution_count": null,
   "metadata": {},
   "outputs": [],
   "source": []
  },
  {
   "cell_type": "markdown",
   "metadata": {},
   "source": [
    "## Efectos Directos:\n",
    "1. Baja participación ciudadana para identificar soluciones a problemas públicos.\n",
    "    - Comparativo entidades tienen al menos un ejercicio con ciudadanos"
   ]
  },
  {
   "cell_type": "code",
   "execution_count": 25,
   "metadata": {},
   "outputs": [
    {
     "name": "stdout",
     "output_type": "stream",
     "text": [
      "369\n"
     ]
    },
    {
     "data": {
      "application/vnd.plotly.v1+json": {
       "config": {
        "plotlyServerURL": "https://plot.ly"
       },
       "data": [
        {
         "text": [
          "369",
          "278",
          "67",
          "172"
         ],
         "textposition": "auto",
         "type": "bar",
         "x": [
          "Total de iniciativas",
          "A. De funcionarios y/o contratistas.",
          "B. De ciudadanía.",
          "C. De nivel directivo de la entidad."
         ],
         "y": [
          369,
          278,
          67,
          172
         ]
        }
       ],
       "layout": {
        "height": 600,
        "template": {
         "data": {
          "bar": [
           {
            "error_x": {
             "color": "#2a3f5f"
            },
            "error_y": {
             "color": "#2a3f5f"
            },
            "marker": {
             "line": {
              "color": "#E5ECF6",
              "width": 0.5
             },
             "pattern": {
              "fillmode": "overlay",
              "size": 10,
              "solidity": 0.2
             }
            },
            "type": "bar"
           }
          ],
          "barpolar": [
           {
            "marker": {
             "line": {
              "color": "#E5ECF6",
              "width": 0.5
             },
             "pattern": {
              "fillmode": "overlay",
              "size": 10,
              "solidity": 0.2
             }
            },
            "type": "barpolar"
           }
          ],
          "carpet": [
           {
            "aaxis": {
             "endlinecolor": "#2a3f5f",
             "gridcolor": "white",
             "linecolor": "white",
             "minorgridcolor": "white",
             "startlinecolor": "#2a3f5f"
            },
            "baxis": {
             "endlinecolor": "#2a3f5f",
             "gridcolor": "white",
             "linecolor": "white",
             "minorgridcolor": "white",
             "startlinecolor": "#2a3f5f"
            },
            "type": "carpet"
           }
          ],
          "choropleth": [
           {
            "colorbar": {
             "outlinewidth": 0,
             "ticks": ""
            },
            "type": "choropleth"
           }
          ],
          "contour": [
           {
            "colorbar": {
             "outlinewidth": 0,
             "ticks": ""
            },
            "colorscale": [
             [
              0,
              "#0d0887"
             ],
             [
              0.1111111111111111,
              "#46039f"
             ],
             [
              0.2222222222222222,
              "#7201a8"
             ],
             [
              0.3333333333333333,
              "#9c179e"
             ],
             [
              0.4444444444444444,
              "#bd3786"
             ],
             [
              0.5555555555555556,
              "#d8576b"
             ],
             [
              0.6666666666666666,
              "#ed7953"
             ],
             [
              0.7777777777777778,
              "#fb9f3a"
             ],
             [
              0.8888888888888888,
              "#fdca26"
             ],
             [
              1,
              "#f0f921"
             ]
            ],
            "type": "contour"
           }
          ],
          "contourcarpet": [
           {
            "colorbar": {
             "outlinewidth": 0,
             "ticks": ""
            },
            "type": "contourcarpet"
           }
          ],
          "heatmap": [
           {
            "colorbar": {
             "outlinewidth": 0,
             "ticks": ""
            },
            "colorscale": [
             [
              0,
              "#0d0887"
             ],
             [
              0.1111111111111111,
              "#46039f"
             ],
             [
              0.2222222222222222,
              "#7201a8"
             ],
             [
              0.3333333333333333,
              "#9c179e"
             ],
             [
              0.4444444444444444,
              "#bd3786"
             ],
             [
              0.5555555555555556,
              "#d8576b"
             ],
             [
              0.6666666666666666,
              "#ed7953"
             ],
             [
              0.7777777777777778,
              "#fb9f3a"
             ],
             [
              0.8888888888888888,
              "#fdca26"
             ],
             [
              1,
              "#f0f921"
             ]
            ],
            "type": "heatmap"
           }
          ],
          "heatmapgl": [
           {
            "colorbar": {
             "outlinewidth": 0,
             "ticks": ""
            },
            "colorscale": [
             [
              0,
              "#0d0887"
             ],
             [
              0.1111111111111111,
              "#46039f"
             ],
             [
              0.2222222222222222,
              "#7201a8"
             ],
             [
              0.3333333333333333,
              "#9c179e"
             ],
             [
              0.4444444444444444,
              "#bd3786"
             ],
             [
              0.5555555555555556,
              "#d8576b"
             ],
             [
              0.6666666666666666,
              "#ed7953"
             ],
             [
              0.7777777777777778,
              "#fb9f3a"
             ],
             [
              0.8888888888888888,
              "#fdca26"
             ],
             [
              1,
              "#f0f921"
             ]
            ],
            "type": "heatmapgl"
           }
          ],
          "histogram": [
           {
            "marker": {
             "pattern": {
              "fillmode": "overlay",
              "size": 10,
              "solidity": 0.2
             }
            },
            "type": "histogram"
           }
          ],
          "histogram2d": [
           {
            "colorbar": {
             "outlinewidth": 0,
             "ticks": ""
            },
            "colorscale": [
             [
              0,
              "#0d0887"
             ],
             [
              0.1111111111111111,
              "#46039f"
             ],
             [
              0.2222222222222222,
              "#7201a8"
             ],
             [
              0.3333333333333333,
              "#9c179e"
             ],
             [
              0.4444444444444444,
              "#bd3786"
             ],
             [
              0.5555555555555556,
              "#d8576b"
             ],
             [
              0.6666666666666666,
              "#ed7953"
             ],
             [
              0.7777777777777778,
              "#fb9f3a"
             ],
             [
              0.8888888888888888,
              "#fdca26"
             ],
             [
              1,
              "#f0f921"
             ]
            ],
            "type": "histogram2d"
           }
          ],
          "histogram2dcontour": [
           {
            "colorbar": {
             "outlinewidth": 0,
             "ticks": ""
            },
            "colorscale": [
             [
              0,
              "#0d0887"
             ],
             [
              0.1111111111111111,
              "#46039f"
             ],
             [
              0.2222222222222222,
              "#7201a8"
             ],
             [
              0.3333333333333333,
              "#9c179e"
             ],
             [
              0.4444444444444444,
              "#bd3786"
             ],
             [
              0.5555555555555556,
              "#d8576b"
             ],
             [
              0.6666666666666666,
              "#ed7953"
             ],
             [
              0.7777777777777778,
              "#fb9f3a"
             ],
             [
              0.8888888888888888,
              "#fdca26"
             ],
             [
              1,
              "#f0f921"
             ]
            ],
            "type": "histogram2dcontour"
           }
          ],
          "mesh3d": [
           {
            "colorbar": {
             "outlinewidth": 0,
             "ticks": ""
            },
            "type": "mesh3d"
           }
          ],
          "parcoords": [
           {
            "line": {
             "colorbar": {
              "outlinewidth": 0,
              "ticks": ""
             }
            },
            "type": "parcoords"
           }
          ],
          "pie": [
           {
            "automargin": true,
            "type": "pie"
           }
          ],
          "scatter": [
           {
            "fillpattern": {
             "fillmode": "overlay",
             "size": 10,
             "solidity": 0.2
            },
            "type": "scatter"
           }
          ],
          "scatter3d": [
           {
            "line": {
             "colorbar": {
              "outlinewidth": 0,
              "ticks": ""
             }
            },
            "marker": {
             "colorbar": {
              "outlinewidth": 0,
              "ticks": ""
             }
            },
            "type": "scatter3d"
           }
          ],
          "scattercarpet": [
           {
            "marker": {
             "colorbar": {
              "outlinewidth": 0,
              "ticks": ""
             }
            },
            "type": "scattercarpet"
           }
          ],
          "scattergeo": [
           {
            "marker": {
             "colorbar": {
              "outlinewidth": 0,
              "ticks": ""
             }
            },
            "type": "scattergeo"
           }
          ],
          "scattergl": [
           {
            "marker": {
             "colorbar": {
              "outlinewidth": 0,
              "ticks": ""
             }
            },
            "type": "scattergl"
           }
          ],
          "scattermapbox": [
           {
            "marker": {
             "colorbar": {
              "outlinewidth": 0,
              "ticks": ""
             }
            },
            "type": "scattermapbox"
           }
          ],
          "scatterpolar": [
           {
            "marker": {
             "colorbar": {
              "outlinewidth": 0,
              "ticks": ""
             }
            },
            "type": "scatterpolar"
           }
          ],
          "scatterpolargl": [
           {
            "marker": {
             "colorbar": {
              "outlinewidth": 0,
              "ticks": ""
             }
            },
            "type": "scatterpolargl"
           }
          ],
          "scatterternary": [
           {
            "marker": {
             "colorbar": {
              "outlinewidth": 0,
              "ticks": ""
             }
            },
            "type": "scatterternary"
           }
          ],
          "surface": [
           {
            "colorbar": {
             "outlinewidth": 0,
             "ticks": ""
            },
            "colorscale": [
             [
              0,
              "#0d0887"
             ],
             [
              0.1111111111111111,
              "#46039f"
             ],
             [
              0.2222222222222222,
              "#7201a8"
             ],
             [
              0.3333333333333333,
              "#9c179e"
             ],
             [
              0.4444444444444444,
              "#bd3786"
             ],
             [
              0.5555555555555556,
              "#d8576b"
             ],
             [
              0.6666666666666666,
              "#ed7953"
             ],
             [
              0.7777777777777778,
              "#fb9f3a"
             ],
             [
              0.8888888888888888,
              "#fdca26"
             ],
             [
              1,
              "#f0f921"
             ]
            ],
            "type": "surface"
           }
          ],
          "table": [
           {
            "cells": {
             "fill": {
              "color": "#EBF0F8"
             },
             "line": {
              "color": "white"
             }
            },
            "header": {
             "fill": {
              "color": "#C8D4E3"
             },
             "line": {
              "color": "white"
             }
            },
            "type": "table"
           }
          ]
         },
         "layout": {
          "annotationdefaults": {
           "arrowcolor": "#2a3f5f",
           "arrowhead": 0,
           "arrowwidth": 1
          },
          "autotypenumbers": "strict",
          "coloraxis": {
           "colorbar": {
            "outlinewidth": 0,
            "ticks": ""
           }
          },
          "colorscale": {
           "diverging": [
            [
             0,
             "#8e0152"
            ],
            [
             0.1,
             "#c51b7d"
            ],
            [
             0.2,
             "#de77ae"
            ],
            [
             0.3,
             "#f1b6da"
            ],
            [
             0.4,
             "#fde0ef"
            ],
            [
             0.5,
             "#f7f7f7"
            ],
            [
             0.6,
             "#e6f5d0"
            ],
            [
             0.7,
             "#b8e186"
            ],
            [
             0.8,
             "#7fbc41"
            ],
            [
             0.9,
             "#4d9221"
            ],
            [
             1,
             "#276419"
            ]
           ],
           "sequential": [
            [
             0,
             "#0d0887"
            ],
            [
             0.1111111111111111,
             "#46039f"
            ],
            [
             0.2222222222222222,
             "#7201a8"
            ],
            [
             0.3333333333333333,
             "#9c179e"
            ],
            [
             0.4444444444444444,
             "#bd3786"
            ],
            [
             0.5555555555555556,
             "#d8576b"
            ],
            [
             0.6666666666666666,
             "#ed7953"
            ],
            [
             0.7777777777777778,
             "#fb9f3a"
            ],
            [
             0.8888888888888888,
             "#fdca26"
            ],
            [
             1,
             "#f0f921"
            ]
           ],
           "sequentialminus": [
            [
             0,
             "#0d0887"
            ],
            [
             0.1111111111111111,
             "#46039f"
            ],
            [
             0.2222222222222222,
             "#7201a8"
            ],
            [
             0.3333333333333333,
             "#9c179e"
            ],
            [
             0.4444444444444444,
             "#bd3786"
            ],
            [
             0.5555555555555556,
             "#d8576b"
            ],
            [
             0.6666666666666666,
             "#ed7953"
            ],
            [
             0.7777777777777778,
             "#fb9f3a"
            ],
            [
             0.8888888888888888,
             "#fdca26"
            ],
            [
             1,
             "#f0f921"
            ]
           ]
          },
          "colorway": [
           "#636efa",
           "#EF553B",
           "#00cc96",
           "#ab63fa",
           "#FFA15A",
           "#19d3f3",
           "#FF6692",
           "#B6E880",
           "#FF97FF",
           "#FECB52"
          ],
          "font": {
           "color": "#2a3f5f"
          },
          "geo": {
           "bgcolor": "white",
           "lakecolor": "white",
           "landcolor": "#E5ECF6",
           "showlakes": true,
           "showland": true,
           "subunitcolor": "white"
          },
          "hoverlabel": {
           "align": "left"
          },
          "hovermode": "closest",
          "mapbox": {
           "style": "light"
          },
          "paper_bgcolor": "white",
          "plot_bgcolor": "#E5ECF6",
          "polar": {
           "angularaxis": {
            "gridcolor": "white",
            "linecolor": "white",
            "ticks": ""
           },
           "bgcolor": "#E5ECF6",
           "radialaxis": {
            "gridcolor": "white",
            "linecolor": "white",
            "ticks": ""
           }
          },
          "scene": {
           "xaxis": {
            "backgroundcolor": "#E5ECF6",
            "gridcolor": "white",
            "gridwidth": 2,
            "linecolor": "white",
            "showbackground": true,
            "ticks": "",
            "zerolinecolor": "white"
           },
           "yaxis": {
            "backgroundcolor": "#E5ECF6",
            "gridcolor": "white",
            "gridwidth": 2,
            "linecolor": "white",
            "showbackground": true,
            "ticks": "",
            "zerolinecolor": "white"
           },
           "zaxis": {
            "backgroundcolor": "#E5ECF6",
            "gridcolor": "white",
            "gridwidth": 2,
            "linecolor": "white",
            "showbackground": true,
            "ticks": "",
            "zerolinecolor": "white"
           }
          },
          "shapedefaults": {
           "line": {
            "color": "#2a3f5f"
           }
          },
          "ternary": {
           "aaxis": {
            "gridcolor": "white",
            "linecolor": "white",
            "ticks": ""
           },
           "baxis": {
            "gridcolor": "white",
            "linecolor": "white",
            "ticks": ""
           },
           "bgcolor": "#E5ECF6",
           "caxis": {
            "gridcolor": "white",
            "linecolor": "white",
            "ticks": ""
           }
          },
          "title": {
           "x": 0.05
          },
          "xaxis": {
           "automargin": true,
           "gridcolor": "white",
           "linecolor": "white",
           "ticks": "",
           "title": {
            "standoff": 15
           },
           "zerolinecolor": "white",
           "zerolinewidth": 2
          },
          "yaxis": {
           "automargin": true,
           "gridcolor": "white",
           "linecolor": "white",
           "ticks": "",
           "title": {
            "standoff": 15
           },
           "zerolinecolor": "white",
           "zerolinewidth": 2
          }
         }
        },
        "title": {
         "text": "Volúmen de iniciativas respecto a orígen"
        },
        "width": 1200,
        "xaxis": {
         "title": {
          "text": "Orígen de la iniciativa"
         }
        },
        "yaxis": {
         "title": {
          "text": "Cantidad de iniciativas"
         }
        }
       }
      }
     },
     "metadata": {},
     "output_type": "display_data"
    }
   ],
   "source": [
    "iniciativas=p23_df['p23_nom'].unique()\n",
    "print(len(iniciativas))\n",
    "\n",
    "cat_0=iniciativas\n",
    "cat_A=p23_df.loc[p23_df['p23_usr/p23_usr_1']==1]\n",
    "cat_B=p23_df.loc[p23_df['p23_usr/p23_usr_2']==1]\n",
    "cat_C=p23_df.loc[p23_df['p23_usr/p23_usr_3']==1]\n",
    "\n",
    "values = [len(cat_0),len(cat_A), len(cat_B), len(cat_C)]\n",
    "categories = ['Total de iniciativas','A. De funcionarios y/o contratistas.', 'B. De ciudadanía.', 'C. De nivel directivo de la entidad.']\n",
    "\n",
    "fig = go.Figure()\n",
    "fig.add_trace(go.Bar(x=categories, y=values, text=values, textposition='auto'))\n",
    "\n",
    "fig.update_layout(title='Volúmen de iniciativas respecto a orígen', xaxis_title='Orígen de la iniciativa', yaxis_title='Cantidad de iniciativas',height=600, width=1200)\n",
    "fig.update_layout(height=600, width=1200)\n",
    "fig.write_image(f'./files/graficos/Efectos Directos/a/Volumen_iniciativas_vs_origen.png')\n",
    "# Show the plot\n",
    "fig.show()"
   ]
  },
  {
   "cell_type": "code",
   "execution_count": 26,
   "metadata": {},
   "outputs": [
    {
     "data": {
      "application/vnd.plotly.v1+json": {
       "config": {
        "plotlyServerURL": "https://plot.ly"
       },
       "data": [
        {
         "text": [
          "70",
          "31"
         ],
         "textposition": "auto",
         "type": "bar",
         "x": [
          "Total de entidades",
          "Total de entidades con ejercicios con ciudadanos"
         ],
         "y": [
          70,
          31
         ]
        }
       ],
       "layout": {
        "height": 600,
        "template": {
         "data": {
          "bar": [
           {
            "error_x": {
             "color": "#2a3f5f"
            },
            "error_y": {
             "color": "#2a3f5f"
            },
            "marker": {
             "line": {
              "color": "#E5ECF6",
              "width": 0.5
             },
             "pattern": {
              "fillmode": "overlay",
              "size": 10,
              "solidity": 0.2
             }
            },
            "type": "bar"
           }
          ],
          "barpolar": [
           {
            "marker": {
             "line": {
              "color": "#E5ECF6",
              "width": 0.5
             },
             "pattern": {
              "fillmode": "overlay",
              "size": 10,
              "solidity": 0.2
             }
            },
            "type": "barpolar"
           }
          ],
          "carpet": [
           {
            "aaxis": {
             "endlinecolor": "#2a3f5f",
             "gridcolor": "white",
             "linecolor": "white",
             "minorgridcolor": "white",
             "startlinecolor": "#2a3f5f"
            },
            "baxis": {
             "endlinecolor": "#2a3f5f",
             "gridcolor": "white",
             "linecolor": "white",
             "minorgridcolor": "white",
             "startlinecolor": "#2a3f5f"
            },
            "type": "carpet"
           }
          ],
          "choropleth": [
           {
            "colorbar": {
             "outlinewidth": 0,
             "ticks": ""
            },
            "type": "choropleth"
           }
          ],
          "contour": [
           {
            "colorbar": {
             "outlinewidth": 0,
             "ticks": ""
            },
            "colorscale": [
             [
              0,
              "#0d0887"
             ],
             [
              0.1111111111111111,
              "#46039f"
             ],
             [
              0.2222222222222222,
              "#7201a8"
             ],
             [
              0.3333333333333333,
              "#9c179e"
             ],
             [
              0.4444444444444444,
              "#bd3786"
             ],
             [
              0.5555555555555556,
              "#d8576b"
             ],
             [
              0.6666666666666666,
              "#ed7953"
             ],
             [
              0.7777777777777778,
              "#fb9f3a"
             ],
             [
              0.8888888888888888,
              "#fdca26"
             ],
             [
              1,
              "#f0f921"
             ]
            ],
            "type": "contour"
           }
          ],
          "contourcarpet": [
           {
            "colorbar": {
             "outlinewidth": 0,
             "ticks": ""
            },
            "type": "contourcarpet"
           }
          ],
          "heatmap": [
           {
            "colorbar": {
             "outlinewidth": 0,
             "ticks": ""
            },
            "colorscale": [
             [
              0,
              "#0d0887"
             ],
             [
              0.1111111111111111,
              "#46039f"
             ],
             [
              0.2222222222222222,
              "#7201a8"
             ],
             [
              0.3333333333333333,
              "#9c179e"
             ],
             [
              0.4444444444444444,
              "#bd3786"
             ],
             [
              0.5555555555555556,
              "#d8576b"
             ],
             [
              0.6666666666666666,
              "#ed7953"
             ],
             [
              0.7777777777777778,
              "#fb9f3a"
             ],
             [
              0.8888888888888888,
              "#fdca26"
             ],
             [
              1,
              "#f0f921"
             ]
            ],
            "type": "heatmap"
           }
          ],
          "heatmapgl": [
           {
            "colorbar": {
             "outlinewidth": 0,
             "ticks": ""
            },
            "colorscale": [
             [
              0,
              "#0d0887"
             ],
             [
              0.1111111111111111,
              "#46039f"
             ],
             [
              0.2222222222222222,
              "#7201a8"
             ],
             [
              0.3333333333333333,
              "#9c179e"
             ],
             [
              0.4444444444444444,
              "#bd3786"
             ],
             [
              0.5555555555555556,
              "#d8576b"
             ],
             [
              0.6666666666666666,
              "#ed7953"
             ],
             [
              0.7777777777777778,
              "#fb9f3a"
             ],
             [
              0.8888888888888888,
              "#fdca26"
             ],
             [
              1,
              "#f0f921"
             ]
            ],
            "type": "heatmapgl"
           }
          ],
          "histogram": [
           {
            "marker": {
             "pattern": {
              "fillmode": "overlay",
              "size": 10,
              "solidity": 0.2
             }
            },
            "type": "histogram"
           }
          ],
          "histogram2d": [
           {
            "colorbar": {
             "outlinewidth": 0,
             "ticks": ""
            },
            "colorscale": [
             [
              0,
              "#0d0887"
             ],
             [
              0.1111111111111111,
              "#46039f"
             ],
             [
              0.2222222222222222,
              "#7201a8"
             ],
             [
              0.3333333333333333,
              "#9c179e"
             ],
             [
              0.4444444444444444,
              "#bd3786"
             ],
             [
              0.5555555555555556,
              "#d8576b"
             ],
             [
              0.6666666666666666,
              "#ed7953"
             ],
             [
              0.7777777777777778,
              "#fb9f3a"
             ],
             [
              0.8888888888888888,
              "#fdca26"
             ],
             [
              1,
              "#f0f921"
             ]
            ],
            "type": "histogram2d"
           }
          ],
          "histogram2dcontour": [
           {
            "colorbar": {
             "outlinewidth": 0,
             "ticks": ""
            },
            "colorscale": [
             [
              0,
              "#0d0887"
             ],
             [
              0.1111111111111111,
              "#46039f"
             ],
             [
              0.2222222222222222,
              "#7201a8"
             ],
             [
              0.3333333333333333,
              "#9c179e"
             ],
             [
              0.4444444444444444,
              "#bd3786"
             ],
             [
              0.5555555555555556,
              "#d8576b"
             ],
             [
              0.6666666666666666,
              "#ed7953"
             ],
             [
              0.7777777777777778,
              "#fb9f3a"
             ],
             [
              0.8888888888888888,
              "#fdca26"
             ],
             [
              1,
              "#f0f921"
             ]
            ],
            "type": "histogram2dcontour"
           }
          ],
          "mesh3d": [
           {
            "colorbar": {
             "outlinewidth": 0,
             "ticks": ""
            },
            "type": "mesh3d"
           }
          ],
          "parcoords": [
           {
            "line": {
             "colorbar": {
              "outlinewidth": 0,
              "ticks": ""
             }
            },
            "type": "parcoords"
           }
          ],
          "pie": [
           {
            "automargin": true,
            "type": "pie"
           }
          ],
          "scatter": [
           {
            "fillpattern": {
             "fillmode": "overlay",
             "size": 10,
             "solidity": 0.2
            },
            "type": "scatter"
           }
          ],
          "scatter3d": [
           {
            "line": {
             "colorbar": {
              "outlinewidth": 0,
              "ticks": ""
             }
            },
            "marker": {
             "colorbar": {
              "outlinewidth": 0,
              "ticks": ""
             }
            },
            "type": "scatter3d"
           }
          ],
          "scattercarpet": [
           {
            "marker": {
             "colorbar": {
              "outlinewidth": 0,
              "ticks": ""
             }
            },
            "type": "scattercarpet"
           }
          ],
          "scattergeo": [
           {
            "marker": {
             "colorbar": {
              "outlinewidth": 0,
              "ticks": ""
             }
            },
            "type": "scattergeo"
           }
          ],
          "scattergl": [
           {
            "marker": {
             "colorbar": {
              "outlinewidth": 0,
              "ticks": ""
             }
            },
            "type": "scattergl"
           }
          ],
          "scattermapbox": [
           {
            "marker": {
             "colorbar": {
              "outlinewidth": 0,
              "ticks": ""
             }
            },
            "type": "scattermapbox"
           }
          ],
          "scatterpolar": [
           {
            "marker": {
             "colorbar": {
              "outlinewidth": 0,
              "ticks": ""
             }
            },
            "type": "scatterpolar"
           }
          ],
          "scatterpolargl": [
           {
            "marker": {
             "colorbar": {
              "outlinewidth": 0,
              "ticks": ""
             }
            },
            "type": "scatterpolargl"
           }
          ],
          "scatterternary": [
           {
            "marker": {
             "colorbar": {
              "outlinewidth": 0,
              "ticks": ""
             }
            },
            "type": "scatterternary"
           }
          ],
          "surface": [
           {
            "colorbar": {
             "outlinewidth": 0,
             "ticks": ""
            },
            "colorscale": [
             [
              0,
              "#0d0887"
             ],
             [
              0.1111111111111111,
              "#46039f"
             ],
             [
              0.2222222222222222,
              "#7201a8"
             ],
             [
              0.3333333333333333,
              "#9c179e"
             ],
             [
              0.4444444444444444,
              "#bd3786"
             ],
             [
              0.5555555555555556,
              "#d8576b"
             ],
             [
              0.6666666666666666,
              "#ed7953"
             ],
             [
              0.7777777777777778,
              "#fb9f3a"
             ],
             [
              0.8888888888888888,
              "#fdca26"
             ],
             [
              1,
              "#f0f921"
             ]
            ],
            "type": "surface"
           }
          ],
          "table": [
           {
            "cells": {
             "fill": {
              "color": "#EBF0F8"
             },
             "line": {
              "color": "white"
             }
            },
            "header": {
             "fill": {
              "color": "#C8D4E3"
             },
             "line": {
              "color": "white"
             }
            },
            "type": "table"
           }
          ]
         },
         "layout": {
          "annotationdefaults": {
           "arrowcolor": "#2a3f5f",
           "arrowhead": 0,
           "arrowwidth": 1
          },
          "autotypenumbers": "strict",
          "coloraxis": {
           "colorbar": {
            "outlinewidth": 0,
            "ticks": ""
           }
          },
          "colorscale": {
           "diverging": [
            [
             0,
             "#8e0152"
            ],
            [
             0.1,
             "#c51b7d"
            ],
            [
             0.2,
             "#de77ae"
            ],
            [
             0.3,
             "#f1b6da"
            ],
            [
             0.4,
             "#fde0ef"
            ],
            [
             0.5,
             "#f7f7f7"
            ],
            [
             0.6,
             "#e6f5d0"
            ],
            [
             0.7,
             "#b8e186"
            ],
            [
             0.8,
             "#7fbc41"
            ],
            [
             0.9,
             "#4d9221"
            ],
            [
             1,
             "#276419"
            ]
           ],
           "sequential": [
            [
             0,
             "#0d0887"
            ],
            [
             0.1111111111111111,
             "#46039f"
            ],
            [
             0.2222222222222222,
             "#7201a8"
            ],
            [
             0.3333333333333333,
             "#9c179e"
            ],
            [
             0.4444444444444444,
             "#bd3786"
            ],
            [
             0.5555555555555556,
             "#d8576b"
            ],
            [
             0.6666666666666666,
             "#ed7953"
            ],
            [
             0.7777777777777778,
             "#fb9f3a"
            ],
            [
             0.8888888888888888,
             "#fdca26"
            ],
            [
             1,
             "#f0f921"
            ]
           ],
           "sequentialminus": [
            [
             0,
             "#0d0887"
            ],
            [
             0.1111111111111111,
             "#46039f"
            ],
            [
             0.2222222222222222,
             "#7201a8"
            ],
            [
             0.3333333333333333,
             "#9c179e"
            ],
            [
             0.4444444444444444,
             "#bd3786"
            ],
            [
             0.5555555555555556,
             "#d8576b"
            ],
            [
             0.6666666666666666,
             "#ed7953"
            ],
            [
             0.7777777777777778,
             "#fb9f3a"
            ],
            [
             0.8888888888888888,
             "#fdca26"
            ],
            [
             1,
             "#f0f921"
            ]
           ]
          },
          "colorway": [
           "#636efa",
           "#EF553B",
           "#00cc96",
           "#ab63fa",
           "#FFA15A",
           "#19d3f3",
           "#FF6692",
           "#B6E880",
           "#FF97FF",
           "#FECB52"
          ],
          "font": {
           "color": "#2a3f5f"
          },
          "geo": {
           "bgcolor": "white",
           "lakecolor": "white",
           "landcolor": "#E5ECF6",
           "showlakes": true,
           "showland": true,
           "subunitcolor": "white"
          },
          "hoverlabel": {
           "align": "left"
          },
          "hovermode": "closest",
          "mapbox": {
           "style": "light"
          },
          "paper_bgcolor": "white",
          "plot_bgcolor": "#E5ECF6",
          "polar": {
           "angularaxis": {
            "gridcolor": "white",
            "linecolor": "white",
            "ticks": ""
           },
           "bgcolor": "#E5ECF6",
           "radialaxis": {
            "gridcolor": "white",
            "linecolor": "white",
            "ticks": ""
           }
          },
          "scene": {
           "xaxis": {
            "backgroundcolor": "#E5ECF6",
            "gridcolor": "white",
            "gridwidth": 2,
            "linecolor": "white",
            "showbackground": true,
            "ticks": "",
            "zerolinecolor": "white"
           },
           "yaxis": {
            "backgroundcolor": "#E5ECF6",
            "gridcolor": "white",
            "gridwidth": 2,
            "linecolor": "white",
            "showbackground": true,
            "ticks": "",
            "zerolinecolor": "white"
           },
           "zaxis": {
            "backgroundcolor": "#E5ECF6",
            "gridcolor": "white",
            "gridwidth": 2,
            "linecolor": "white",
            "showbackground": true,
            "ticks": "",
            "zerolinecolor": "white"
           }
          },
          "shapedefaults": {
           "line": {
            "color": "#2a3f5f"
           }
          },
          "ternary": {
           "aaxis": {
            "gridcolor": "white",
            "linecolor": "white",
            "ticks": ""
           },
           "baxis": {
            "gridcolor": "white",
            "linecolor": "white",
            "ticks": ""
           },
           "bgcolor": "#E5ECF6",
           "caxis": {
            "gridcolor": "white",
            "linecolor": "white",
            "ticks": ""
           }
          },
          "title": {
           "x": 0.05
          },
          "xaxis": {
           "automargin": true,
           "gridcolor": "white",
           "linecolor": "white",
           "ticks": "",
           "title": {
            "standoff": 15
           },
           "zerolinecolor": "white",
           "zerolinewidth": 2
          },
          "yaxis": {
           "automargin": true,
           "gridcolor": "white",
           "linecolor": "white",
           "ticks": "",
           "title": {
            "standoff": 15
           },
           "zerolinecolor": "white",
           "zerolinewidth": 2
          }
         }
        },
        "title": {
         "text": "Entidades que han permitido ciudadanía en procesos de innovación"
        },
        "width": 1200,
        "xaxis": {
         "title": {
          "text": "Orígen de la iniciativa"
         }
        },
        "yaxis": {
         "title": {
          "text": "Entidades que permiten"
         }
        }
       }
      }
     },
     "metadata": {},
     "output_type": "display_data"
    }
   ],
   "source": [
    "#Ahora la misma pero con entidades y no con iniciativas. es decir 70 vs xxx\n",
    "\n",
    "ents=respuestas_2023_df['_uuid'].unique()\n",
    "companies_with_citizens_involvement = p23_df[p23_df['p23_usr/p23_usr_2'] == 1]['_submission__uuid'].nunique()\n",
    "\n",
    "values = [len(ents),companies_with_citizens_involvement]\n",
    "categories = ['Total de entidades','Total de entidades con ejercicios con ciudadanos']\n",
    "\n",
    "fig = go.Figure()\n",
    "fig.add_trace(go.Bar(x=categories, y=values, text=values, textposition='auto'))\n",
    "\n",
    "fig.update_layout(title='Entidades que han permitido ciudadanía en procesos de innovación', xaxis_title='Orígen de la iniciativa', yaxis_title='Entidades que permiten',height=600, width=1200)\n",
    "fig.update_layout(height=600, width=1200)\n",
    "fig.write_image(f'./files/graficos/Efectos Directos/a/Entidades_participativas.png')\n",
    "# Show the plot\n",
    "fig.show()"
   ]
  },
  {
   "cell_type": "markdown",
   "metadata": {},
   "source": [
    "2. Débil promoción en las entidades de una cultura de innovación entre su talento humano para afrontar desafíos públicos.\n",
    "    - Cuántas entidades reportan contar con unidades de innovación."
   ]
  },
  {
   "cell_type": "code",
   "execution_count": 27,
   "metadata": {},
   "outputs": [
    {
     "data": {
      "application/vnd.plotly.v1+json": {
       "config": {
        "plotlyServerURL": "https://plot.ly"
       },
       "data": [
        {
         "text": [
          "70",
          "50",
          "38",
          "23"
         ],
         "textposition": "auto",
         "type": "bar",
         "x": [
          "Total de entidades",
          "Entidades con unidades de innovación",
          "Entidades con unidades de innovación formales",
          "Entidades con laboratorios de innovación"
         ],
         "y": [
          70,
          50,
          38,
          23
         ]
        }
       ],
       "layout": {
        "height": 600,
        "template": {
         "data": {
          "bar": [
           {
            "error_x": {
             "color": "#2a3f5f"
            },
            "error_y": {
             "color": "#2a3f5f"
            },
            "marker": {
             "line": {
              "color": "#E5ECF6",
              "width": 0.5
             },
             "pattern": {
              "fillmode": "overlay",
              "size": 10,
              "solidity": 0.2
             }
            },
            "type": "bar"
           }
          ],
          "barpolar": [
           {
            "marker": {
             "line": {
              "color": "#E5ECF6",
              "width": 0.5
             },
             "pattern": {
              "fillmode": "overlay",
              "size": 10,
              "solidity": 0.2
             }
            },
            "type": "barpolar"
           }
          ],
          "carpet": [
           {
            "aaxis": {
             "endlinecolor": "#2a3f5f",
             "gridcolor": "white",
             "linecolor": "white",
             "minorgridcolor": "white",
             "startlinecolor": "#2a3f5f"
            },
            "baxis": {
             "endlinecolor": "#2a3f5f",
             "gridcolor": "white",
             "linecolor": "white",
             "minorgridcolor": "white",
             "startlinecolor": "#2a3f5f"
            },
            "type": "carpet"
           }
          ],
          "choropleth": [
           {
            "colorbar": {
             "outlinewidth": 0,
             "ticks": ""
            },
            "type": "choropleth"
           }
          ],
          "contour": [
           {
            "colorbar": {
             "outlinewidth": 0,
             "ticks": ""
            },
            "colorscale": [
             [
              0,
              "#0d0887"
             ],
             [
              0.1111111111111111,
              "#46039f"
             ],
             [
              0.2222222222222222,
              "#7201a8"
             ],
             [
              0.3333333333333333,
              "#9c179e"
             ],
             [
              0.4444444444444444,
              "#bd3786"
             ],
             [
              0.5555555555555556,
              "#d8576b"
             ],
             [
              0.6666666666666666,
              "#ed7953"
             ],
             [
              0.7777777777777778,
              "#fb9f3a"
             ],
             [
              0.8888888888888888,
              "#fdca26"
             ],
             [
              1,
              "#f0f921"
             ]
            ],
            "type": "contour"
           }
          ],
          "contourcarpet": [
           {
            "colorbar": {
             "outlinewidth": 0,
             "ticks": ""
            },
            "type": "contourcarpet"
           }
          ],
          "heatmap": [
           {
            "colorbar": {
             "outlinewidth": 0,
             "ticks": ""
            },
            "colorscale": [
             [
              0,
              "#0d0887"
             ],
             [
              0.1111111111111111,
              "#46039f"
             ],
             [
              0.2222222222222222,
              "#7201a8"
             ],
             [
              0.3333333333333333,
              "#9c179e"
             ],
             [
              0.4444444444444444,
              "#bd3786"
             ],
             [
              0.5555555555555556,
              "#d8576b"
             ],
             [
              0.6666666666666666,
              "#ed7953"
             ],
             [
              0.7777777777777778,
              "#fb9f3a"
             ],
             [
              0.8888888888888888,
              "#fdca26"
             ],
             [
              1,
              "#f0f921"
             ]
            ],
            "type": "heatmap"
           }
          ],
          "heatmapgl": [
           {
            "colorbar": {
             "outlinewidth": 0,
             "ticks": ""
            },
            "colorscale": [
             [
              0,
              "#0d0887"
             ],
             [
              0.1111111111111111,
              "#46039f"
             ],
             [
              0.2222222222222222,
              "#7201a8"
             ],
             [
              0.3333333333333333,
              "#9c179e"
             ],
             [
              0.4444444444444444,
              "#bd3786"
             ],
             [
              0.5555555555555556,
              "#d8576b"
             ],
             [
              0.6666666666666666,
              "#ed7953"
             ],
             [
              0.7777777777777778,
              "#fb9f3a"
             ],
             [
              0.8888888888888888,
              "#fdca26"
             ],
             [
              1,
              "#f0f921"
             ]
            ],
            "type": "heatmapgl"
           }
          ],
          "histogram": [
           {
            "marker": {
             "pattern": {
              "fillmode": "overlay",
              "size": 10,
              "solidity": 0.2
             }
            },
            "type": "histogram"
           }
          ],
          "histogram2d": [
           {
            "colorbar": {
             "outlinewidth": 0,
             "ticks": ""
            },
            "colorscale": [
             [
              0,
              "#0d0887"
             ],
             [
              0.1111111111111111,
              "#46039f"
             ],
             [
              0.2222222222222222,
              "#7201a8"
             ],
             [
              0.3333333333333333,
              "#9c179e"
             ],
             [
              0.4444444444444444,
              "#bd3786"
             ],
             [
              0.5555555555555556,
              "#d8576b"
             ],
             [
              0.6666666666666666,
              "#ed7953"
             ],
             [
              0.7777777777777778,
              "#fb9f3a"
             ],
             [
              0.8888888888888888,
              "#fdca26"
             ],
             [
              1,
              "#f0f921"
             ]
            ],
            "type": "histogram2d"
           }
          ],
          "histogram2dcontour": [
           {
            "colorbar": {
             "outlinewidth": 0,
             "ticks": ""
            },
            "colorscale": [
             [
              0,
              "#0d0887"
             ],
             [
              0.1111111111111111,
              "#46039f"
             ],
             [
              0.2222222222222222,
              "#7201a8"
             ],
             [
              0.3333333333333333,
              "#9c179e"
             ],
             [
              0.4444444444444444,
              "#bd3786"
             ],
             [
              0.5555555555555556,
              "#d8576b"
             ],
             [
              0.6666666666666666,
              "#ed7953"
             ],
             [
              0.7777777777777778,
              "#fb9f3a"
             ],
             [
              0.8888888888888888,
              "#fdca26"
             ],
             [
              1,
              "#f0f921"
             ]
            ],
            "type": "histogram2dcontour"
           }
          ],
          "mesh3d": [
           {
            "colorbar": {
             "outlinewidth": 0,
             "ticks": ""
            },
            "type": "mesh3d"
           }
          ],
          "parcoords": [
           {
            "line": {
             "colorbar": {
              "outlinewidth": 0,
              "ticks": ""
             }
            },
            "type": "parcoords"
           }
          ],
          "pie": [
           {
            "automargin": true,
            "type": "pie"
           }
          ],
          "scatter": [
           {
            "fillpattern": {
             "fillmode": "overlay",
             "size": 10,
             "solidity": 0.2
            },
            "type": "scatter"
           }
          ],
          "scatter3d": [
           {
            "line": {
             "colorbar": {
              "outlinewidth": 0,
              "ticks": ""
             }
            },
            "marker": {
             "colorbar": {
              "outlinewidth": 0,
              "ticks": ""
             }
            },
            "type": "scatter3d"
           }
          ],
          "scattercarpet": [
           {
            "marker": {
             "colorbar": {
              "outlinewidth": 0,
              "ticks": ""
             }
            },
            "type": "scattercarpet"
           }
          ],
          "scattergeo": [
           {
            "marker": {
             "colorbar": {
              "outlinewidth": 0,
              "ticks": ""
             }
            },
            "type": "scattergeo"
           }
          ],
          "scattergl": [
           {
            "marker": {
             "colorbar": {
              "outlinewidth": 0,
              "ticks": ""
             }
            },
            "type": "scattergl"
           }
          ],
          "scattermapbox": [
           {
            "marker": {
             "colorbar": {
              "outlinewidth": 0,
              "ticks": ""
             }
            },
            "type": "scattermapbox"
           }
          ],
          "scatterpolar": [
           {
            "marker": {
             "colorbar": {
              "outlinewidth": 0,
              "ticks": ""
             }
            },
            "type": "scatterpolar"
           }
          ],
          "scatterpolargl": [
           {
            "marker": {
             "colorbar": {
              "outlinewidth": 0,
              "ticks": ""
             }
            },
            "type": "scatterpolargl"
           }
          ],
          "scatterternary": [
           {
            "marker": {
             "colorbar": {
              "outlinewidth": 0,
              "ticks": ""
             }
            },
            "type": "scatterternary"
           }
          ],
          "surface": [
           {
            "colorbar": {
             "outlinewidth": 0,
             "ticks": ""
            },
            "colorscale": [
             [
              0,
              "#0d0887"
             ],
             [
              0.1111111111111111,
              "#46039f"
             ],
             [
              0.2222222222222222,
              "#7201a8"
             ],
             [
              0.3333333333333333,
              "#9c179e"
             ],
             [
              0.4444444444444444,
              "#bd3786"
             ],
             [
              0.5555555555555556,
              "#d8576b"
             ],
             [
              0.6666666666666666,
              "#ed7953"
             ],
             [
              0.7777777777777778,
              "#fb9f3a"
             ],
             [
              0.8888888888888888,
              "#fdca26"
             ],
             [
              1,
              "#f0f921"
             ]
            ],
            "type": "surface"
           }
          ],
          "table": [
           {
            "cells": {
             "fill": {
              "color": "#EBF0F8"
             },
             "line": {
              "color": "white"
             }
            },
            "header": {
             "fill": {
              "color": "#C8D4E3"
             },
             "line": {
              "color": "white"
             }
            },
            "type": "table"
           }
          ]
         },
         "layout": {
          "annotationdefaults": {
           "arrowcolor": "#2a3f5f",
           "arrowhead": 0,
           "arrowwidth": 1
          },
          "autotypenumbers": "strict",
          "coloraxis": {
           "colorbar": {
            "outlinewidth": 0,
            "ticks": ""
           }
          },
          "colorscale": {
           "diverging": [
            [
             0,
             "#8e0152"
            ],
            [
             0.1,
             "#c51b7d"
            ],
            [
             0.2,
             "#de77ae"
            ],
            [
             0.3,
             "#f1b6da"
            ],
            [
             0.4,
             "#fde0ef"
            ],
            [
             0.5,
             "#f7f7f7"
            ],
            [
             0.6,
             "#e6f5d0"
            ],
            [
             0.7,
             "#b8e186"
            ],
            [
             0.8,
             "#7fbc41"
            ],
            [
             0.9,
             "#4d9221"
            ],
            [
             1,
             "#276419"
            ]
           ],
           "sequential": [
            [
             0,
             "#0d0887"
            ],
            [
             0.1111111111111111,
             "#46039f"
            ],
            [
             0.2222222222222222,
             "#7201a8"
            ],
            [
             0.3333333333333333,
             "#9c179e"
            ],
            [
             0.4444444444444444,
             "#bd3786"
            ],
            [
             0.5555555555555556,
             "#d8576b"
            ],
            [
             0.6666666666666666,
             "#ed7953"
            ],
            [
             0.7777777777777778,
             "#fb9f3a"
            ],
            [
             0.8888888888888888,
             "#fdca26"
            ],
            [
             1,
             "#f0f921"
            ]
           ],
           "sequentialminus": [
            [
             0,
             "#0d0887"
            ],
            [
             0.1111111111111111,
             "#46039f"
            ],
            [
             0.2222222222222222,
             "#7201a8"
            ],
            [
             0.3333333333333333,
             "#9c179e"
            ],
            [
             0.4444444444444444,
             "#bd3786"
            ],
            [
             0.5555555555555556,
             "#d8576b"
            ],
            [
             0.6666666666666666,
             "#ed7953"
            ],
            [
             0.7777777777777778,
             "#fb9f3a"
            ],
            [
             0.8888888888888888,
             "#fdca26"
            ],
            [
             1,
             "#f0f921"
            ]
           ]
          },
          "colorway": [
           "#636efa",
           "#EF553B",
           "#00cc96",
           "#ab63fa",
           "#FFA15A",
           "#19d3f3",
           "#FF6692",
           "#B6E880",
           "#FF97FF",
           "#FECB52"
          ],
          "font": {
           "color": "#2a3f5f"
          },
          "geo": {
           "bgcolor": "white",
           "lakecolor": "white",
           "landcolor": "#E5ECF6",
           "showlakes": true,
           "showland": true,
           "subunitcolor": "white"
          },
          "hoverlabel": {
           "align": "left"
          },
          "hovermode": "closest",
          "mapbox": {
           "style": "light"
          },
          "paper_bgcolor": "white",
          "plot_bgcolor": "#E5ECF6",
          "polar": {
           "angularaxis": {
            "gridcolor": "white",
            "linecolor": "white",
            "ticks": ""
           },
           "bgcolor": "#E5ECF6",
           "radialaxis": {
            "gridcolor": "white",
            "linecolor": "white",
            "ticks": ""
           }
          },
          "scene": {
           "xaxis": {
            "backgroundcolor": "#E5ECF6",
            "gridcolor": "white",
            "gridwidth": 2,
            "linecolor": "white",
            "showbackground": true,
            "ticks": "",
            "zerolinecolor": "white"
           },
           "yaxis": {
            "backgroundcolor": "#E5ECF6",
            "gridcolor": "white",
            "gridwidth": 2,
            "linecolor": "white",
            "showbackground": true,
            "ticks": "",
            "zerolinecolor": "white"
           },
           "zaxis": {
            "backgroundcolor": "#E5ECF6",
            "gridcolor": "white",
            "gridwidth": 2,
            "linecolor": "white",
            "showbackground": true,
            "ticks": "",
            "zerolinecolor": "white"
           }
          },
          "shapedefaults": {
           "line": {
            "color": "#2a3f5f"
           }
          },
          "ternary": {
           "aaxis": {
            "gridcolor": "white",
            "linecolor": "white",
            "ticks": ""
           },
           "baxis": {
            "gridcolor": "white",
            "linecolor": "white",
            "ticks": ""
           },
           "bgcolor": "#E5ECF6",
           "caxis": {
            "gridcolor": "white",
            "linecolor": "white",
            "ticks": ""
           }
          },
          "title": {
           "x": 0.05
          },
          "xaxis": {
           "automargin": true,
           "gridcolor": "white",
           "linecolor": "white",
           "ticks": "",
           "title": {
            "standoff": 15
           },
           "zerolinecolor": "white",
           "zerolinewidth": 2
          },
          "yaxis": {
           "automargin": true,
           "gridcolor": "white",
           "linecolor": "white",
           "ticks": "",
           "title": {
            "standoff": 15
           },
           "zerolinecolor": "white",
           "zerolinewidth": 2
          }
         }
        },
        "title": {
         "text": "Volúmen de unidades de innovación"
        },
        "width": 1200,
        "xaxis": {
         "title": {
          "text": "entidades vs unidades"
         }
        },
        "yaxis": {
         "title": {
          "text": "Cantidad de unidades"
         }
        }
       }
      }
     },
     "metadata": {},
     "output_type": "display_data"
    }
   ],
   "source": [
    "ents=respuestas_2023_df['_uuid']\n",
    "num_ents=len(ents.unique())\n",
    "\n",
    "keywords = ['lab', 'laboratorio', 'semillero', 'observatorio']\n",
    "p27_df['formales'] = p27_df['p27_nom'].apply(lambda x: 1 if any(keyword in x.lower() for keyword in keywords) else 0)\n",
    "formales=p27_df.loc[p27_df['formales']==1]\n",
    "num_formales=len(formales)\n",
    "\n",
    "keywords = ['lab', 'laboratorio']\n",
    "p27_df['labs'] = p27_df['p27_nom'].apply(lambda x: 1 if any(keyword in x.lower() for keyword in keywords) else 0)\n",
    "labs=p27_df.loc[p27_df['labs']==1]\n",
    "num_labs=len(labs)\n",
    "\n",
    "unidades=p27_df['_submission__uuid'].unique()\n",
    "num_unidades=len(unidades)\n",
    "\n",
    "\n",
    "values = [num_ents, num_unidades, num_formales,num_labs]\n",
    "categories = ['Total de entidades', 'Entidades con unidades de innovación', 'Entidades con unidades de innovación formales', 'Entidades con laboratorios de innovación']\n",
    "\n",
    "fig = go.Figure()\n",
    "fig.add_trace(go.Bar(x=categories, y=values, text=values, textposition='auto'))\n",
    "\n",
    "fig.update_layout(title='Volúmen de unidades de innovación', xaxis_title='entidades vs unidades', yaxis_title='Cantidad de unidades',height=600, width=1200)\n",
    "fig.update_layout(height=600, width=1200)\n",
    "fig.write_image(f'./files/graficos/Efectos Directos/b/Volumen_entidades_vs_unidades.png')\n",
    "fig.show()"
   ]
  },
  {
   "cell_type": "markdown",
   "metadata": {},
   "source": [
    "## Problema Cental:\n",
    "1. Baja confianza de la ciudadanía por desconeción de la gestión de gobierno con las expectativas ciudadanas."
   ]
  },
  {
   "cell_type": "code",
   "execution_count": null,
   "metadata": {},
   "outputs": [],
   "source": []
  },
  {
   "cell_type": "markdown",
   "metadata": {},
   "source": [
    "## Causas Directas:\n",
    "1. Deficiencias en los habilitantes institucionales dedicados a la innovación pública.\n",
    "    - Resultados del componente 1. Si se puede sacar comparativos anuales\n",
    "    - Recursos\n",
    "    - Talento humano\n",
    "    - Digitales\n",
    "    - Unidades de innovación nuevamente\n",
    "    - Formación genérica\n",
    "    - Inexistencia de un ecosistema colaborativo"
   ]
  },
  {
   "cell_type": "code",
   "execution_count": null,
   "metadata": {},
   "outputs": [],
   "source": []
  },
  {
   "cell_type": "markdown",
   "metadata": {},
   "source": [
    "2. Volatilidad del talento humano dedicado a promover temas de innovación.\n",
    "    - 10 - 12\n",
    "    - Coger datos del comparativo funcionarios vs funcionarios innovacion y lo mismo con contratistas"
   ]
  },
  {
   "cell_type": "code",
   "execution_count": null,
   "metadata": {},
   "outputs": [],
   "source": []
  },
  {
   "cell_type": "markdown",
   "metadata": {},
   "source": [
    "## Causas Indirectas:\n",
    "1. Carencia de espacios para la construcción colectiva con la ciudadanía.\n",
    "    - 17 -18 desde excel (indicador 11). 55 de 0-100"
   ]
  },
  {
   "cell_type": "code",
   "execution_count": 28,
   "metadata": {},
   "outputs": [
    {
     "name": "stdout",
     "output_type": "stream",
     "text": [
      "197\n"
     ]
    },
    {
     "data": {
      "application/vnd.plotly.v1+json": {
       "config": {
        "plotlyServerURL": "https://plot.ly"
       },
       "data": [
        {
         "text": [
          "197",
          "67",
          "47",
          "83"
         ],
         "textposition": "auto",
         "type": "bar",
         "x": [
          "Total de canales",
          "Solamente a funcionarios y/o contratistas.",
          "Solamente a ciudananía.",
          "Conjuntamente a funcionarios y/o contratistas y a ciudadanía."
         ],
         "y": [
          197,
          67,
          47,
          83
         ]
        }
       ],
       "layout": {
        "height": 600,
        "template": {
         "data": {
          "bar": [
           {
            "error_x": {
             "color": "#2a3f5f"
            },
            "error_y": {
             "color": "#2a3f5f"
            },
            "marker": {
             "line": {
              "color": "#E5ECF6",
              "width": 0.5
             },
             "pattern": {
              "fillmode": "overlay",
              "size": 10,
              "solidity": 0.2
             }
            },
            "type": "bar"
           }
          ],
          "barpolar": [
           {
            "marker": {
             "line": {
              "color": "#E5ECF6",
              "width": 0.5
             },
             "pattern": {
              "fillmode": "overlay",
              "size": 10,
              "solidity": 0.2
             }
            },
            "type": "barpolar"
           }
          ],
          "carpet": [
           {
            "aaxis": {
             "endlinecolor": "#2a3f5f",
             "gridcolor": "white",
             "linecolor": "white",
             "minorgridcolor": "white",
             "startlinecolor": "#2a3f5f"
            },
            "baxis": {
             "endlinecolor": "#2a3f5f",
             "gridcolor": "white",
             "linecolor": "white",
             "minorgridcolor": "white",
             "startlinecolor": "#2a3f5f"
            },
            "type": "carpet"
           }
          ],
          "choropleth": [
           {
            "colorbar": {
             "outlinewidth": 0,
             "ticks": ""
            },
            "type": "choropleth"
           }
          ],
          "contour": [
           {
            "colorbar": {
             "outlinewidth": 0,
             "ticks": ""
            },
            "colorscale": [
             [
              0,
              "#0d0887"
             ],
             [
              0.1111111111111111,
              "#46039f"
             ],
             [
              0.2222222222222222,
              "#7201a8"
             ],
             [
              0.3333333333333333,
              "#9c179e"
             ],
             [
              0.4444444444444444,
              "#bd3786"
             ],
             [
              0.5555555555555556,
              "#d8576b"
             ],
             [
              0.6666666666666666,
              "#ed7953"
             ],
             [
              0.7777777777777778,
              "#fb9f3a"
             ],
             [
              0.8888888888888888,
              "#fdca26"
             ],
             [
              1,
              "#f0f921"
             ]
            ],
            "type": "contour"
           }
          ],
          "contourcarpet": [
           {
            "colorbar": {
             "outlinewidth": 0,
             "ticks": ""
            },
            "type": "contourcarpet"
           }
          ],
          "heatmap": [
           {
            "colorbar": {
             "outlinewidth": 0,
             "ticks": ""
            },
            "colorscale": [
             [
              0,
              "#0d0887"
             ],
             [
              0.1111111111111111,
              "#46039f"
             ],
             [
              0.2222222222222222,
              "#7201a8"
             ],
             [
              0.3333333333333333,
              "#9c179e"
             ],
             [
              0.4444444444444444,
              "#bd3786"
             ],
             [
              0.5555555555555556,
              "#d8576b"
             ],
             [
              0.6666666666666666,
              "#ed7953"
             ],
             [
              0.7777777777777778,
              "#fb9f3a"
             ],
             [
              0.8888888888888888,
              "#fdca26"
             ],
             [
              1,
              "#f0f921"
             ]
            ],
            "type": "heatmap"
           }
          ],
          "heatmapgl": [
           {
            "colorbar": {
             "outlinewidth": 0,
             "ticks": ""
            },
            "colorscale": [
             [
              0,
              "#0d0887"
             ],
             [
              0.1111111111111111,
              "#46039f"
             ],
             [
              0.2222222222222222,
              "#7201a8"
             ],
             [
              0.3333333333333333,
              "#9c179e"
             ],
             [
              0.4444444444444444,
              "#bd3786"
             ],
             [
              0.5555555555555556,
              "#d8576b"
             ],
             [
              0.6666666666666666,
              "#ed7953"
             ],
             [
              0.7777777777777778,
              "#fb9f3a"
             ],
             [
              0.8888888888888888,
              "#fdca26"
             ],
             [
              1,
              "#f0f921"
             ]
            ],
            "type": "heatmapgl"
           }
          ],
          "histogram": [
           {
            "marker": {
             "pattern": {
              "fillmode": "overlay",
              "size": 10,
              "solidity": 0.2
             }
            },
            "type": "histogram"
           }
          ],
          "histogram2d": [
           {
            "colorbar": {
             "outlinewidth": 0,
             "ticks": ""
            },
            "colorscale": [
             [
              0,
              "#0d0887"
             ],
             [
              0.1111111111111111,
              "#46039f"
             ],
             [
              0.2222222222222222,
              "#7201a8"
             ],
             [
              0.3333333333333333,
              "#9c179e"
             ],
             [
              0.4444444444444444,
              "#bd3786"
             ],
             [
              0.5555555555555556,
              "#d8576b"
             ],
             [
              0.6666666666666666,
              "#ed7953"
             ],
             [
              0.7777777777777778,
              "#fb9f3a"
             ],
             [
              0.8888888888888888,
              "#fdca26"
             ],
             [
              1,
              "#f0f921"
             ]
            ],
            "type": "histogram2d"
           }
          ],
          "histogram2dcontour": [
           {
            "colorbar": {
             "outlinewidth": 0,
             "ticks": ""
            },
            "colorscale": [
             [
              0,
              "#0d0887"
             ],
             [
              0.1111111111111111,
              "#46039f"
             ],
             [
              0.2222222222222222,
              "#7201a8"
             ],
             [
              0.3333333333333333,
              "#9c179e"
             ],
             [
              0.4444444444444444,
              "#bd3786"
             ],
             [
              0.5555555555555556,
              "#d8576b"
             ],
             [
              0.6666666666666666,
              "#ed7953"
             ],
             [
              0.7777777777777778,
              "#fb9f3a"
             ],
             [
              0.8888888888888888,
              "#fdca26"
             ],
             [
              1,
              "#f0f921"
             ]
            ],
            "type": "histogram2dcontour"
           }
          ],
          "mesh3d": [
           {
            "colorbar": {
             "outlinewidth": 0,
             "ticks": ""
            },
            "type": "mesh3d"
           }
          ],
          "parcoords": [
           {
            "line": {
             "colorbar": {
              "outlinewidth": 0,
              "ticks": ""
             }
            },
            "type": "parcoords"
           }
          ],
          "pie": [
           {
            "automargin": true,
            "type": "pie"
           }
          ],
          "scatter": [
           {
            "fillpattern": {
             "fillmode": "overlay",
             "size": 10,
             "solidity": 0.2
            },
            "type": "scatter"
           }
          ],
          "scatter3d": [
           {
            "line": {
             "colorbar": {
              "outlinewidth": 0,
              "ticks": ""
             }
            },
            "marker": {
             "colorbar": {
              "outlinewidth": 0,
              "ticks": ""
             }
            },
            "type": "scatter3d"
           }
          ],
          "scattercarpet": [
           {
            "marker": {
             "colorbar": {
              "outlinewidth": 0,
              "ticks": ""
             }
            },
            "type": "scattercarpet"
           }
          ],
          "scattergeo": [
           {
            "marker": {
             "colorbar": {
              "outlinewidth": 0,
              "ticks": ""
             }
            },
            "type": "scattergeo"
           }
          ],
          "scattergl": [
           {
            "marker": {
             "colorbar": {
              "outlinewidth": 0,
              "ticks": ""
             }
            },
            "type": "scattergl"
           }
          ],
          "scattermapbox": [
           {
            "marker": {
             "colorbar": {
              "outlinewidth": 0,
              "ticks": ""
             }
            },
            "type": "scattermapbox"
           }
          ],
          "scatterpolar": [
           {
            "marker": {
             "colorbar": {
              "outlinewidth": 0,
              "ticks": ""
             }
            },
            "type": "scatterpolar"
           }
          ],
          "scatterpolargl": [
           {
            "marker": {
             "colorbar": {
              "outlinewidth": 0,
              "ticks": ""
             }
            },
            "type": "scatterpolargl"
           }
          ],
          "scatterternary": [
           {
            "marker": {
             "colorbar": {
              "outlinewidth": 0,
              "ticks": ""
             }
            },
            "type": "scatterternary"
           }
          ],
          "surface": [
           {
            "colorbar": {
             "outlinewidth": 0,
             "ticks": ""
            },
            "colorscale": [
             [
              0,
              "#0d0887"
             ],
             [
              0.1111111111111111,
              "#46039f"
             ],
             [
              0.2222222222222222,
              "#7201a8"
             ],
             [
              0.3333333333333333,
              "#9c179e"
             ],
             [
              0.4444444444444444,
              "#bd3786"
             ],
             [
              0.5555555555555556,
              "#d8576b"
             ],
             [
              0.6666666666666666,
              "#ed7953"
             ],
             [
              0.7777777777777778,
              "#fb9f3a"
             ],
             [
              0.8888888888888888,
              "#fdca26"
             ],
             [
              1,
              "#f0f921"
             ]
            ],
            "type": "surface"
           }
          ],
          "table": [
           {
            "cells": {
             "fill": {
              "color": "#EBF0F8"
             },
             "line": {
              "color": "white"
             }
            },
            "header": {
             "fill": {
              "color": "#C8D4E3"
             },
             "line": {
              "color": "white"
             }
            },
            "type": "table"
           }
          ]
         },
         "layout": {
          "annotationdefaults": {
           "arrowcolor": "#2a3f5f",
           "arrowhead": 0,
           "arrowwidth": 1
          },
          "autotypenumbers": "strict",
          "coloraxis": {
           "colorbar": {
            "outlinewidth": 0,
            "ticks": ""
           }
          },
          "colorscale": {
           "diverging": [
            [
             0,
             "#8e0152"
            ],
            [
             0.1,
             "#c51b7d"
            ],
            [
             0.2,
             "#de77ae"
            ],
            [
             0.3,
             "#f1b6da"
            ],
            [
             0.4,
             "#fde0ef"
            ],
            [
             0.5,
             "#f7f7f7"
            ],
            [
             0.6,
             "#e6f5d0"
            ],
            [
             0.7,
             "#b8e186"
            ],
            [
             0.8,
             "#7fbc41"
            ],
            [
             0.9,
             "#4d9221"
            ],
            [
             1,
             "#276419"
            ]
           ],
           "sequential": [
            [
             0,
             "#0d0887"
            ],
            [
             0.1111111111111111,
             "#46039f"
            ],
            [
             0.2222222222222222,
             "#7201a8"
            ],
            [
             0.3333333333333333,
             "#9c179e"
            ],
            [
             0.4444444444444444,
             "#bd3786"
            ],
            [
             0.5555555555555556,
             "#d8576b"
            ],
            [
             0.6666666666666666,
             "#ed7953"
            ],
            [
             0.7777777777777778,
             "#fb9f3a"
            ],
            [
             0.8888888888888888,
             "#fdca26"
            ],
            [
             1,
             "#f0f921"
            ]
           ],
           "sequentialminus": [
            [
             0,
             "#0d0887"
            ],
            [
             0.1111111111111111,
             "#46039f"
            ],
            [
             0.2222222222222222,
             "#7201a8"
            ],
            [
             0.3333333333333333,
             "#9c179e"
            ],
            [
             0.4444444444444444,
             "#bd3786"
            ],
            [
             0.5555555555555556,
             "#d8576b"
            ],
            [
             0.6666666666666666,
             "#ed7953"
            ],
            [
             0.7777777777777778,
             "#fb9f3a"
            ],
            [
             0.8888888888888888,
             "#fdca26"
            ],
            [
             1,
             "#f0f921"
            ]
           ]
          },
          "colorway": [
           "#636efa",
           "#EF553B",
           "#00cc96",
           "#ab63fa",
           "#FFA15A",
           "#19d3f3",
           "#FF6692",
           "#B6E880",
           "#FF97FF",
           "#FECB52"
          ],
          "font": {
           "color": "#2a3f5f"
          },
          "geo": {
           "bgcolor": "white",
           "lakecolor": "white",
           "landcolor": "#E5ECF6",
           "showlakes": true,
           "showland": true,
           "subunitcolor": "white"
          },
          "hoverlabel": {
           "align": "left"
          },
          "hovermode": "closest",
          "mapbox": {
           "style": "light"
          },
          "paper_bgcolor": "white",
          "plot_bgcolor": "#E5ECF6",
          "polar": {
           "angularaxis": {
            "gridcolor": "white",
            "linecolor": "white",
            "ticks": ""
           },
           "bgcolor": "#E5ECF6",
           "radialaxis": {
            "gridcolor": "white",
            "linecolor": "white",
            "ticks": ""
           }
          },
          "scene": {
           "xaxis": {
            "backgroundcolor": "#E5ECF6",
            "gridcolor": "white",
            "gridwidth": 2,
            "linecolor": "white",
            "showbackground": true,
            "ticks": "",
            "zerolinecolor": "white"
           },
           "yaxis": {
            "backgroundcolor": "#E5ECF6",
            "gridcolor": "white",
            "gridwidth": 2,
            "linecolor": "white",
            "showbackground": true,
            "ticks": "",
            "zerolinecolor": "white"
           },
           "zaxis": {
            "backgroundcolor": "#E5ECF6",
            "gridcolor": "white",
            "gridwidth": 2,
            "linecolor": "white",
            "showbackground": true,
            "ticks": "",
            "zerolinecolor": "white"
           }
          },
          "shapedefaults": {
           "line": {
            "color": "#2a3f5f"
           }
          },
          "ternary": {
           "aaxis": {
            "gridcolor": "white",
            "linecolor": "white",
            "ticks": ""
           },
           "baxis": {
            "gridcolor": "white",
            "linecolor": "white",
            "ticks": ""
           },
           "bgcolor": "#E5ECF6",
           "caxis": {
            "gridcolor": "white",
            "linecolor": "white",
            "ticks": ""
           }
          },
          "title": {
           "x": 0.05
          },
          "xaxis": {
           "automargin": true,
           "gridcolor": "white",
           "linecolor": "white",
           "ticks": "",
           "title": {
            "standoff": 15
           },
           "zerolinecolor": "white",
           "zerolinewidth": 2
          },
          "yaxis": {
           "automargin": true,
           "gridcolor": "white",
           "linecolor": "white",
           "ticks": "",
           "title": {
            "standoff": 15
           },
           "zerolinecolor": "white",
           "zerolinewidth": 2
          }
         }
        },
        "title": {
         "text": "Volúmen de canales respecto a orientación"
        },
        "width": 1200,
        "xaxis": {
         "title": {
          "text": "Orientación del canal"
         }
        },
        "yaxis": {
         "title": {
          "text": "Cantidad de canales"
         }
        }
       }
      }
     },
     "metadata": {},
     "output_type": "display_data"
    }
   ],
   "source": [
    "iniciativas=p17_df['p17_act']\n",
    "print(len(iniciativas))\n",
    "\n",
    "cat_0=iniciativas\n",
    "cat_A=p17_df.loc[p17_df['p17_usr']=='p17_usr_1']\n",
    "cat_B=p17_df.loc[p17_df['p17_usr']=='p17_usr_2']\n",
    "cat_C=p17_df.loc[p17_df['p17_usr']=='p17_usr_3']\n",
    "\n",
    "values = [len(cat_0),len(cat_A), len(cat_B), len(cat_C)]\n",
    "categories = ['Total de canales','Solamente a funcionarios y/o contratistas.', 'Solamente a ciudananía.', 'Conjuntamente a funcionarios y/o contratistas y a ciudadanía.']\n",
    "\n",
    "fig = go.Figure()\n",
    "fig.add_trace(go.Bar(x=categories, y=values, text=values, textposition='auto'))\n",
    "\n",
    "fig.update_layout(title='Volúmen de canales respecto a orientación', xaxis_title='Orientación del canal', yaxis_title='Cantidad de canales',height=600, width=1200)\n",
    "fig.update_layout(height=600, width=1200)\n",
    "fig.write_image(f'./files/graficos/Causas Indirectas/a/Volumen_canales_vs_orientación.png')\n",
    "# Show the plot\n",
    "fig.show()"
   ]
  },
  {
   "cell_type": "code",
   "execution_count": 29,
   "metadata": {},
   "outputs": [
    {
     "name": "stdout",
     "output_type": "stream",
     "text": [
      "212\n"
     ]
    },
    {
     "data": {
      "application/vnd.plotly.v1+json": {
       "config": {
        "plotlyServerURL": "https://plot.ly"
       },
       "data": [
        {
         "text": [
          "212",
          "77",
          "40",
          "95"
         ],
         "textposition": "auto",
         "type": "bar",
         "x": [
          "Total de actividades",
          "Solamente con funcionarios y/o contratistas.",
          "Solamente con ciudananía.",
          "Conjuntamente con funcionarios y/o contratistas y con ciudadanía."
         ],
         "y": [
          212,
          77,
          40,
          95
         ]
        }
       ],
       "layout": {
        "height": 600,
        "template": {
         "data": {
          "bar": [
           {
            "error_x": {
             "color": "#2a3f5f"
            },
            "error_y": {
             "color": "#2a3f5f"
            },
            "marker": {
             "line": {
              "color": "#E5ECF6",
              "width": 0.5
             },
             "pattern": {
              "fillmode": "overlay",
              "size": 10,
              "solidity": 0.2
             }
            },
            "type": "bar"
           }
          ],
          "barpolar": [
           {
            "marker": {
             "line": {
              "color": "#E5ECF6",
              "width": 0.5
             },
             "pattern": {
              "fillmode": "overlay",
              "size": 10,
              "solidity": 0.2
             }
            },
            "type": "barpolar"
           }
          ],
          "carpet": [
           {
            "aaxis": {
             "endlinecolor": "#2a3f5f",
             "gridcolor": "white",
             "linecolor": "white",
             "minorgridcolor": "white",
             "startlinecolor": "#2a3f5f"
            },
            "baxis": {
             "endlinecolor": "#2a3f5f",
             "gridcolor": "white",
             "linecolor": "white",
             "minorgridcolor": "white",
             "startlinecolor": "#2a3f5f"
            },
            "type": "carpet"
           }
          ],
          "choropleth": [
           {
            "colorbar": {
             "outlinewidth": 0,
             "ticks": ""
            },
            "type": "choropleth"
           }
          ],
          "contour": [
           {
            "colorbar": {
             "outlinewidth": 0,
             "ticks": ""
            },
            "colorscale": [
             [
              0,
              "#0d0887"
             ],
             [
              0.1111111111111111,
              "#46039f"
             ],
             [
              0.2222222222222222,
              "#7201a8"
             ],
             [
              0.3333333333333333,
              "#9c179e"
             ],
             [
              0.4444444444444444,
              "#bd3786"
             ],
             [
              0.5555555555555556,
              "#d8576b"
             ],
             [
              0.6666666666666666,
              "#ed7953"
             ],
             [
              0.7777777777777778,
              "#fb9f3a"
             ],
             [
              0.8888888888888888,
              "#fdca26"
             ],
             [
              1,
              "#f0f921"
             ]
            ],
            "type": "contour"
           }
          ],
          "contourcarpet": [
           {
            "colorbar": {
             "outlinewidth": 0,
             "ticks": ""
            },
            "type": "contourcarpet"
           }
          ],
          "heatmap": [
           {
            "colorbar": {
             "outlinewidth": 0,
             "ticks": ""
            },
            "colorscale": [
             [
              0,
              "#0d0887"
             ],
             [
              0.1111111111111111,
              "#46039f"
             ],
             [
              0.2222222222222222,
              "#7201a8"
             ],
             [
              0.3333333333333333,
              "#9c179e"
             ],
             [
              0.4444444444444444,
              "#bd3786"
             ],
             [
              0.5555555555555556,
              "#d8576b"
             ],
             [
              0.6666666666666666,
              "#ed7953"
             ],
             [
              0.7777777777777778,
              "#fb9f3a"
             ],
             [
              0.8888888888888888,
              "#fdca26"
             ],
             [
              1,
              "#f0f921"
             ]
            ],
            "type": "heatmap"
           }
          ],
          "heatmapgl": [
           {
            "colorbar": {
             "outlinewidth": 0,
             "ticks": ""
            },
            "colorscale": [
             [
              0,
              "#0d0887"
             ],
             [
              0.1111111111111111,
              "#46039f"
             ],
             [
              0.2222222222222222,
              "#7201a8"
             ],
             [
              0.3333333333333333,
              "#9c179e"
             ],
             [
              0.4444444444444444,
              "#bd3786"
             ],
             [
              0.5555555555555556,
              "#d8576b"
             ],
             [
              0.6666666666666666,
              "#ed7953"
             ],
             [
              0.7777777777777778,
              "#fb9f3a"
             ],
             [
              0.8888888888888888,
              "#fdca26"
             ],
             [
              1,
              "#f0f921"
             ]
            ],
            "type": "heatmapgl"
           }
          ],
          "histogram": [
           {
            "marker": {
             "pattern": {
              "fillmode": "overlay",
              "size": 10,
              "solidity": 0.2
             }
            },
            "type": "histogram"
           }
          ],
          "histogram2d": [
           {
            "colorbar": {
             "outlinewidth": 0,
             "ticks": ""
            },
            "colorscale": [
             [
              0,
              "#0d0887"
             ],
             [
              0.1111111111111111,
              "#46039f"
             ],
             [
              0.2222222222222222,
              "#7201a8"
             ],
             [
              0.3333333333333333,
              "#9c179e"
             ],
             [
              0.4444444444444444,
              "#bd3786"
             ],
             [
              0.5555555555555556,
              "#d8576b"
             ],
             [
              0.6666666666666666,
              "#ed7953"
             ],
             [
              0.7777777777777778,
              "#fb9f3a"
             ],
             [
              0.8888888888888888,
              "#fdca26"
             ],
             [
              1,
              "#f0f921"
             ]
            ],
            "type": "histogram2d"
           }
          ],
          "histogram2dcontour": [
           {
            "colorbar": {
             "outlinewidth": 0,
             "ticks": ""
            },
            "colorscale": [
             [
              0,
              "#0d0887"
             ],
             [
              0.1111111111111111,
              "#46039f"
             ],
             [
              0.2222222222222222,
              "#7201a8"
             ],
             [
              0.3333333333333333,
              "#9c179e"
             ],
             [
              0.4444444444444444,
              "#bd3786"
             ],
             [
              0.5555555555555556,
              "#d8576b"
             ],
             [
              0.6666666666666666,
              "#ed7953"
             ],
             [
              0.7777777777777778,
              "#fb9f3a"
             ],
             [
              0.8888888888888888,
              "#fdca26"
             ],
             [
              1,
              "#f0f921"
             ]
            ],
            "type": "histogram2dcontour"
           }
          ],
          "mesh3d": [
           {
            "colorbar": {
             "outlinewidth": 0,
             "ticks": ""
            },
            "type": "mesh3d"
           }
          ],
          "parcoords": [
           {
            "line": {
             "colorbar": {
              "outlinewidth": 0,
              "ticks": ""
             }
            },
            "type": "parcoords"
           }
          ],
          "pie": [
           {
            "automargin": true,
            "type": "pie"
           }
          ],
          "scatter": [
           {
            "fillpattern": {
             "fillmode": "overlay",
             "size": 10,
             "solidity": 0.2
            },
            "type": "scatter"
           }
          ],
          "scatter3d": [
           {
            "line": {
             "colorbar": {
              "outlinewidth": 0,
              "ticks": ""
             }
            },
            "marker": {
             "colorbar": {
              "outlinewidth": 0,
              "ticks": ""
             }
            },
            "type": "scatter3d"
           }
          ],
          "scattercarpet": [
           {
            "marker": {
             "colorbar": {
              "outlinewidth": 0,
              "ticks": ""
             }
            },
            "type": "scattercarpet"
           }
          ],
          "scattergeo": [
           {
            "marker": {
             "colorbar": {
              "outlinewidth": 0,
              "ticks": ""
             }
            },
            "type": "scattergeo"
           }
          ],
          "scattergl": [
           {
            "marker": {
             "colorbar": {
              "outlinewidth": 0,
              "ticks": ""
             }
            },
            "type": "scattergl"
           }
          ],
          "scattermapbox": [
           {
            "marker": {
             "colorbar": {
              "outlinewidth": 0,
              "ticks": ""
             }
            },
            "type": "scattermapbox"
           }
          ],
          "scatterpolar": [
           {
            "marker": {
             "colorbar": {
              "outlinewidth": 0,
              "ticks": ""
             }
            },
            "type": "scatterpolar"
           }
          ],
          "scatterpolargl": [
           {
            "marker": {
             "colorbar": {
              "outlinewidth": 0,
              "ticks": ""
             }
            },
            "type": "scatterpolargl"
           }
          ],
          "scatterternary": [
           {
            "marker": {
             "colorbar": {
              "outlinewidth": 0,
              "ticks": ""
             }
            },
            "type": "scatterternary"
           }
          ],
          "surface": [
           {
            "colorbar": {
             "outlinewidth": 0,
             "ticks": ""
            },
            "colorscale": [
             [
              0,
              "#0d0887"
             ],
             [
              0.1111111111111111,
              "#46039f"
             ],
             [
              0.2222222222222222,
              "#7201a8"
             ],
             [
              0.3333333333333333,
              "#9c179e"
             ],
             [
              0.4444444444444444,
              "#bd3786"
             ],
             [
              0.5555555555555556,
              "#d8576b"
             ],
             [
              0.6666666666666666,
              "#ed7953"
             ],
             [
              0.7777777777777778,
              "#fb9f3a"
             ],
             [
              0.8888888888888888,
              "#fdca26"
             ],
             [
              1,
              "#f0f921"
             ]
            ],
            "type": "surface"
           }
          ],
          "table": [
           {
            "cells": {
             "fill": {
              "color": "#EBF0F8"
             },
             "line": {
              "color": "white"
             }
            },
            "header": {
             "fill": {
              "color": "#C8D4E3"
             },
             "line": {
              "color": "white"
             }
            },
            "type": "table"
           }
          ]
         },
         "layout": {
          "annotationdefaults": {
           "arrowcolor": "#2a3f5f",
           "arrowhead": 0,
           "arrowwidth": 1
          },
          "autotypenumbers": "strict",
          "coloraxis": {
           "colorbar": {
            "outlinewidth": 0,
            "ticks": ""
           }
          },
          "colorscale": {
           "diverging": [
            [
             0,
             "#8e0152"
            ],
            [
             0.1,
             "#c51b7d"
            ],
            [
             0.2,
             "#de77ae"
            ],
            [
             0.3,
             "#f1b6da"
            ],
            [
             0.4,
             "#fde0ef"
            ],
            [
             0.5,
             "#f7f7f7"
            ],
            [
             0.6,
             "#e6f5d0"
            ],
            [
             0.7,
             "#b8e186"
            ],
            [
             0.8,
             "#7fbc41"
            ],
            [
             0.9,
             "#4d9221"
            ],
            [
             1,
             "#276419"
            ]
           ],
           "sequential": [
            [
             0,
             "#0d0887"
            ],
            [
             0.1111111111111111,
             "#46039f"
            ],
            [
             0.2222222222222222,
             "#7201a8"
            ],
            [
             0.3333333333333333,
             "#9c179e"
            ],
            [
             0.4444444444444444,
             "#bd3786"
            ],
            [
             0.5555555555555556,
             "#d8576b"
            ],
            [
             0.6666666666666666,
             "#ed7953"
            ],
            [
             0.7777777777777778,
             "#fb9f3a"
            ],
            [
             0.8888888888888888,
             "#fdca26"
            ],
            [
             1,
             "#f0f921"
            ]
           ],
           "sequentialminus": [
            [
             0,
             "#0d0887"
            ],
            [
             0.1111111111111111,
             "#46039f"
            ],
            [
             0.2222222222222222,
             "#7201a8"
            ],
            [
             0.3333333333333333,
             "#9c179e"
            ],
            [
             0.4444444444444444,
             "#bd3786"
            ],
            [
             0.5555555555555556,
             "#d8576b"
            ],
            [
             0.6666666666666666,
             "#ed7953"
            ],
            [
             0.7777777777777778,
             "#fb9f3a"
            ],
            [
             0.8888888888888888,
             "#fdca26"
            ],
            [
             1,
             "#f0f921"
            ]
           ]
          },
          "colorway": [
           "#636efa",
           "#EF553B",
           "#00cc96",
           "#ab63fa",
           "#FFA15A",
           "#19d3f3",
           "#FF6692",
           "#B6E880",
           "#FF97FF",
           "#FECB52"
          ],
          "font": {
           "color": "#2a3f5f"
          },
          "geo": {
           "bgcolor": "white",
           "lakecolor": "white",
           "landcolor": "#E5ECF6",
           "showlakes": true,
           "showland": true,
           "subunitcolor": "white"
          },
          "hoverlabel": {
           "align": "left"
          },
          "hovermode": "closest",
          "mapbox": {
           "style": "light"
          },
          "paper_bgcolor": "white",
          "plot_bgcolor": "#E5ECF6",
          "polar": {
           "angularaxis": {
            "gridcolor": "white",
            "linecolor": "white",
            "ticks": ""
           },
           "bgcolor": "#E5ECF6",
           "radialaxis": {
            "gridcolor": "white",
            "linecolor": "white",
            "ticks": ""
           }
          },
          "scene": {
           "xaxis": {
            "backgroundcolor": "#E5ECF6",
            "gridcolor": "white",
            "gridwidth": 2,
            "linecolor": "white",
            "showbackground": true,
            "ticks": "",
            "zerolinecolor": "white"
           },
           "yaxis": {
            "backgroundcolor": "#E5ECF6",
            "gridcolor": "white",
            "gridwidth": 2,
            "linecolor": "white",
            "showbackground": true,
            "ticks": "",
            "zerolinecolor": "white"
           },
           "zaxis": {
            "backgroundcolor": "#E5ECF6",
            "gridcolor": "white",
            "gridwidth": 2,
            "linecolor": "white",
            "showbackground": true,
            "ticks": "",
            "zerolinecolor": "white"
           }
          },
          "shapedefaults": {
           "line": {
            "color": "#2a3f5f"
           }
          },
          "ternary": {
           "aaxis": {
            "gridcolor": "white",
            "linecolor": "white",
            "ticks": ""
           },
           "baxis": {
            "gridcolor": "white",
            "linecolor": "white",
            "ticks": ""
           },
           "bgcolor": "#E5ECF6",
           "caxis": {
            "gridcolor": "white",
            "linecolor": "white",
            "ticks": ""
           }
          },
          "title": {
           "x": 0.05
          },
          "xaxis": {
           "automargin": true,
           "gridcolor": "white",
           "linecolor": "white",
           "ticks": "",
           "title": {
            "standoff": 15
           },
           "zerolinecolor": "white",
           "zerolinewidth": 2
          },
          "yaxis": {
           "automargin": true,
           "gridcolor": "white",
           "linecolor": "white",
           "ticks": "",
           "title": {
            "standoff": 15
           },
           "zerolinecolor": "white",
           "zerolinewidth": 2
          }
         }
        },
        "title": {
         "text": "Volúmen de actividades respecto a orientación"
        },
        "width": 1200,
        "xaxis": {
         "title": {
          "text": "Orientación de la actividad"
         }
        },
        "yaxis": {
         "title": {
          "text": "Cantidad de actividades"
         }
        }
       }
      }
     },
     "metadata": {},
     "output_type": "display_data"
    }
   ],
   "source": [
    "iniciativas=p18_df['p18_can']\n",
    "print(len(iniciativas))\n",
    "\n",
    "cat_0=iniciativas\n",
    "cat_A=p18_df.loc[p18_df['p18_usr']=='p18_usr_1']\n",
    "cat_B=p18_df.loc[p18_df['p18_usr']=='p18_usr_2']\n",
    "cat_C=p18_df.loc[p18_df['p18_usr']=='p18_usr_3']\n",
    "\n",
    "values = [len(cat_0),len(cat_A), len(cat_B), len(cat_C)]\n",
    "categories = ['Total de actividades','Solamente con funcionarios y/o contratistas.', 'Solamente con ciudananía.', 'Conjuntamente con funcionarios y/o contratistas y con ciudadanía.']\n",
    "\n",
    "fig = go.Figure()\n",
    "fig.add_trace(go.Bar(x=categories, y=values, text=values, textposition='auto'))\n",
    "\n",
    "fig.update_layout(title='Volúmen de actividades respecto a orientación', xaxis_title='Orientación de la actividad', yaxis_title='Cantidad de actividades',height=600, width=1200)\n",
    "fig.update_layout(height=600, width=1200)\n",
    "fig.write_image(f'./files/graficos/Causas Indirectas/a/Volumen_actividades_vs_orientación.png')\n",
    "# Show the plot\n",
    "fig.show()"
   ]
  },
  {
   "cell_type": "markdown",
   "metadata": {},
   "source": [
    "2. Brechas en la gestión del conocimiento y los empalmes contractuales.\n",
    "    - de el total cuantas no solo publicacion en web."
   ]
  },
  {
   "cell_type": "code",
   "execution_count": 30,
   "metadata": {},
   "outputs": [
    {
     "data": {
      "application/vnd.plotly.v1+json": {
       "config": {
        "plotlyServerURL": "https://plot.ly"
       },
       "data": [
        {
         "text": [
          "80",
          "48",
          "32"
         ],
         "textposition": "auto",
         "type": "bar",
         "x": [
          "Total de mecanismos",
          "Mecanismos para gestión del conocimiento en web",
          "Mecanismos para gestión del conocimiento no web"
         ],
         "y": [
          80,
          48,
          32
         ]
        }
       ],
       "layout": {
        "height": 600,
        "template": {
         "data": {
          "bar": [
           {
            "error_x": {
             "color": "#2a3f5f"
            },
            "error_y": {
             "color": "#2a3f5f"
            },
            "marker": {
             "line": {
              "color": "#E5ECF6",
              "width": 0.5
             },
             "pattern": {
              "fillmode": "overlay",
              "size": 10,
              "solidity": 0.2
             }
            },
            "type": "bar"
           }
          ],
          "barpolar": [
           {
            "marker": {
             "line": {
              "color": "#E5ECF6",
              "width": 0.5
             },
             "pattern": {
              "fillmode": "overlay",
              "size": 10,
              "solidity": 0.2
             }
            },
            "type": "barpolar"
           }
          ],
          "carpet": [
           {
            "aaxis": {
             "endlinecolor": "#2a3f5f",
             "gridcolor": "white",
             "linecolor": "white",
             "minorgridcolor": "white",
             "startlinecolor": "#2a3f5f"
            },
            "baxis": {
             "endlinecolor": "#2a3f5f",
             "gridcolor": "white",
             "linecolor": "white",
             "minorgridcolor": "white",
             "startlinecolor": "#2a3f5f"
            },
            "type": "carpet"
           }
          ],
          "choropleth": [
           {
            "colorbar": {
             "outlinewidth": 0,
             "ticks": ""
            },
            "type": "choropleth"
           }
          ],
          "contour": [
           {
            "colorbar": {
             "outlinewidth": 0,
             "ticks": ""
            },
            "colorscale": [
             [
              0,
              "#0d0887"
             ],
             [
              0.1111111111111111,
              "#46039f"
             ],
             [
              0.2222222222222222,
              "#7201a8"
             ],
             [
              0.3333333333333333,
              "#9c179e"
             ],
             [
              0.4444444444444444,
              "#bd3786"
             ],
             [
              0.5555555555555556,
              "#d8576b"
             ],
             [
              0.6666666666666666,
              "#ed7953"
             ],
             [
              0.7777777777777778,
              "#fb9f3a"
             ],
             [
              0.8888888888888888,
              "#fdca26"
             ],
             [
              1,
              "#f0f921"
             ]
            ],
            "type": "contour"
           }
          ],
          "contourcarpet": [
           {
            "colorbar": {
             "outlinewidth": 0,
             "ticks": ""
            },
            "type": "contourcarpet"
           }
          ],
          "heatmap": [
           {
            "colorbar": {
             "outlinewidth": 0,
             "ticks": ""
            },
            "colorscale": [
             [
              0,
              "#0d0887"
             ],
             [
              0.1111111111111111,
              "#46039f"
             ],
             [
              0.2222222222222222,
              "#7201a8"
             ],
             [
              0.3333333333333333,
              "#9c179e"
             ],
             [
              0.4444444444444444,
              "#bd3786"
             ],
             [
              0.5555555555555556,
              "#d8576b"
             ],
             [
              0.6666666666666666,
              "#ed7953"
             ],
             [
              0.7777777777777778,
              "#fb9f3a"
             ],
             [
              0.8888888888888888,
              "#fdca26"
             ],
             [
              1,
              "#f0f921"
             ]
            ],
            "type": "heatmap"
           }
          ],
          "heatmapgl": [
           {
            "colorbar": {
             "outlinewidth": 0,
             "ticks": ""
            },
            "colorscale": [
             [
              0,
              "#0d0887"
             ],
             [
              0.1111111111111111,
              "#46039f"
             ],
             [
              0.2222222222222222,
              "#7201a8"
             ],
             [
              0.3333333333333333,
              "#9c179e"
             ],
             [
              0.4444444444444444,
              "#bd3786"
             ],
             [
              0.5555555555555556,
              "#d8576b"
             ],
             [
              0.6666666666666666,
              "#ed7953"
             ],
             [
              0.7777777777777778,
              "#fb9f3a"
             ],
             [
              0.8888888888888888,
              "#fdca26"
             ],
             [
              1,
              "#f0f921"
             ]
            ],
            "type": "heatmapgl"
           }
          ],
          "histogram": [
           {
            "marker": {
             "pattern": {
              "fillmode": "overlay",
              "size": 10,
              "solidity": 0.2
             }
            },
            "type": "histogram"
           }
          ],
          "histogram2d": [
           {
            "colorbar": {
             "outlinewidth": 0,
             "ticks": ""
            },
            "colorscale": [
             [
              0,
              "#0d0887"
             ],
             [
              0.1111111111111111,
              "#46039f"
             ],
             [
              0.2222222222222222,
              "#7201a8"
             ],
             [
              0.3333333333333333,
              "#9c179e"
             ],
             [
              0.4444444444444444,
              "#bd3786"
             ],
             [
              0.5555555555555556,
              "#d8576b"
             ],
             [
              0.6666666666666666,
              "#ed7953"
             ],
             [
              0.7777777777777778,
              "#fb9f3a"
             ],
             [
              0.8888888888888888,
              "#fdca26"
             ],
             [
              1,
              "#f0f921"
             ]
            ],
            "type": "histogram2d"
           }
          ],
          "histogram2dcontour": [
           {
            "colorbar": {
             "outlinewidth": 0,
             "ticks": ""
            },
            "colorscale": [
             [
              0,
              "#0d0887"
             ],
             [
              0.1111111111111111,
              "#46039f"
             ],
             [
              0.2222222222222222,
              "#7201a8"
             ],
             [
              0.3333333333333333,
              "#9c179e"
             ],
             [
              0.4444444444444444,
              "#bd3786"
             ],
             [
              0.5555555555555556,
              "#d8576b"
             ],
             [
              0.6666666666666666,
              "#ed7953"
             ],
             [
              0.7777777777777778,
              "#fb9f3a"
             ],
             [
              0.8888888888888888,
              "#fdca26"
             ],
             [
              1,
              "#f0f921"
             ]
            ],
            "type": "histogram2dcontour"
           }
          ],
          "mesh3d": [
           {
            "colorbar": {
             "outlinewidth": 0,
             "ticks": ""
            },
            "type": "mesh3d"
           }
          ],
          "parcoords": [
           {
            "line": {
             "colorbar": {
              "outlinewidth": 0,
              "ticks": ""
             }
            },
            "type": "parcoords"
           }
          ],
          "pie": [
           {
            "automargin": true,
            "type": "pie"
           }
          ],
          "scatter": [
           {
            "fillpattern": {
             "fillmode": "overlay",
             "size": 10,
             "solidity": 0.2
            },
            "type": "scatter"
           }
          ],
          "scatter3d": [
           {
            "line": {
             "colorbar": {
              "outlinewidth": 0,
              "ticks": ""
             }
            },
            "marker": {
             "colorbar": {
              "outlinewidth": 0,
              "ticks": ""
             }
            },
            "type": "scatter3d"
           }
          ],
          "scattercarpet": [
           {
            "marker": {
             "colorbar": {
              "outlinewidth": 0,
              "ticks": ""
             }
            },
            "type": "scattercarpet"
           }
          ],
          "scattergeo": [
           {
            "marker": {
             "colorbar": {
              "outlinewidth": 0,
              "ticks": ""
             }
            },
            "type": "scattergeo"
           }
          ],
          "scattergl": [
           {
            "marker": {
             "colorbar": {
              "outlinewidth": 0,
              "ticks": ""
             }
            },
            "type": "scattergl"
           }
          ],
          "scattermapbox": [
           {
            "marker": {
             "colorbar": {
              "outlinewidth": 0,
              "ticks": ""
             }
            },
            "type": "scattermapbox"
           }
          ],
          "scatterpolar": [
           {
            "marker": {
             "colorbar": {
              "outlinewidth": 0,
              "ticks": ""
             }
            },
            "type": "scatterpolar"
           }
          ],
          "scatterpolargl": [
           {
            "marker": {
             "colorbar": {
              "outlinewidth": 0,
              "ticks": ""
             }
            },
            "type": "scatterpolargl"
           }
          ],
          "scatterternary": [
           {
            "marker": {
             "colorbar": {
              "outlinewidth": 0,
              "ticks": ""
             }
            },
            "type": "scatterternary"
           }
          ],
          "surface": [
           {
            "colorbar": {
             "outlinewidth": 0,
             "ticks": ""
            },
            "colorscale": [
             [
              0,
              "#0d0887"
             ],
             [
              0.1111111111111111,
              "#46039f"
             ],
             [
              0.2222222222222222,
              "#7201a8"
             ],
             [
              0.3333333333333333,
              "#9c179e"
             ],
             [
              0.4444444444444444,
              "#bd3786"
             ],
             [
              0.5555555555555556,
              "#d8576b"
             ],
             [
              0.6666666666666666,
              "#ed7953"
             ],
             [
              0.7777777777777778,
              "#fb9f3a"
             ],
             [
              0.8888888888888888,
              "#fdca26"
             ],
             [
              1,
              "#f0f921"
             ]
            ],
            "type": "surface"
           }
          ],
          "table": [
           {
            "cells": {
             "fill": {
              "color": "#EBF0F8"
             },
             "line": {
              "color": "white"
             }
            },
            "header": {
             "fill": {
              "color": "#C8D4E3"
             },
             "line": {
              "color": "white"
             }
            },
            "type": "table"
           }
          ]
         },
         "layout": {
          "annotationdefaults": {
           "arrowcolor": "#2a3f5f",
           "arrowhead": 0,
           "arrowwidth": 1
          },
          "autotypenumbers": "strict",
          "coloraxis": {
           "colorbar": {
            "outlinewidth": 0,
            "ticks": ""
           }
          },
          "colorscale": {
           "diverging": [
            [
             0,
             "#8e0152"
            ],
            [
             0.1,
             "#c51b7d"
            ],
            [
             0.2,
             "#de77ae"
            ],
            [
             0.3,
             "#f1b6da"
            ],
            [
             0.4,
             "#fde0ef"
            ],
            [
             0.5,
             "#f7f7f7"
            ],
            [
             0.6,
             "#e6f5d0"
            ],
            [
             0.7,
             "#b8e186"
            ],
            [
             0.8,
             "#7fbc41"
            ],
            [
             0.9,
             "#4d9221"
            ],
            [
             1,
             "#276419"
            ]
           ],
           "sequential": [
            [
             0,
             "#0d0887"
            ],
            [
             0.1111111111111111,
             "#46039f"
            ],
            [
             0.2222222222222222,
             "#7201a8"
            ],
            [
             0.3333333333333333,
             "#9c179e"
            ],
            [
             0.4444444444444444,
             "#bd3786"
            ],
            [
             0.5555555555555556,
             "#d8576b"
            ],
            [
             0.6666666666666666,
             "#ed7953"
            ],
            [
             0.7777777777777778,
             "#fb9f3a"
            ],
            [
             0.8888888888888888,
             "#fdca26"
            ],
            [
             1,
             "#f0f921"
            ]
           ],
           "sequentialminus": [
            [
             0,
             "#0d0887"
            ],
            [
             0.1111111111111111,
             "#46039f"
            ],
            [
             0.2222222222222222,
             "#7201a8"
            ],
            [
             0.3333333333333333,
             "#9c179e"
            ],
            [
             0.4444444444444444,
             "#bd3786"
            ],
            [
             0.5555555555555556,
             "#d8576b"
            ],
            [
             0.6666666666666666,
             "#ed7953"
            ],
            [
             0.7777777777777778,
             "#fb9f3a"
            ],
            [
             0.8888888888888888,
             "#fdca26"
            ],
            [
             1,
             "#f0f921"
            ]
           ]
          },
          "colorway": [
           "#636efa",
           "#EF553B",
           "#00cc96",
           "#ab63fa",
           "#FFA15A",
           "#19d3f3",
           "#FF6692",
           "#B6E880",
           "#FF97FF",
           "#FECB52"
          ],
          "font": {
           "color": "#2a3f5f"
          },
          "geo": {
           "bgcolor": "white",
           "lakecolor": "white",
           "landcolor": "#E5ECF6",
           "showlakes": true,
           "showland": true,
           "subunitcolor": "white"
          },
          "hoverlabel": {
           "align": "left"
          },
          "hovermode": "closest",
          "mapbox": {
           "style": "light"
          },
          "paper_bgcolor": "white",
          "plot_bgcolor": "#E5ECF6",
          "polar": {
           "angularaxis": {
            "gridcolor": "white",
            "linecolor": "white",
            "ticks": ""
           },
           "bgcolor": "#E5ECF6",
           "radialaxis": {
            "gridcolor": "white",
            "linecolor": "white",
            "ticks": ""
           }
          },
          "scene": {
           "xaxis": {
            "backgroundcolor": "#E5ECF6",
            "gridcolor": "white",
            "gridwidth": 2,
            "linecolor": "white",
            "showbackground": true,
            "ticks": "",
            "zerolinecolor": "white"
           },
           "yaxis": {
            "backgroundcolor": "#E5ECF6",
            "gridcolor": "white",
            "gridwidth": 2,
            "linecolor": "white",
            "showbackground": true,
            "ticks": "",
            "zerolinecolor": "white"
           },
           "zaxis": {
            "backgroundcolor": "#E5ECF6",
            "gridcolor": "white",
            "gridwidth": 2,
            "linecolor": "white",
            "showbackground": true,
            "ticks": "",
            "zerolinecolor": "white"
           }
          },
          "shapedefaults": {
           "line": {
            "color": "#2a3f5f"
           }
          },
          "ternary": {
           "aaxis": {
            "gridcolor": "white",
            "linecolor": "white",
            "ticks": ""
           },
           "baxis": {
            "gridcolor": "white",
            "linecolor": "white",
            "ticks": ""
           },
           "bgcolor": "#E5ECF6",
           "caxis": {
            "gridcolor": "white",
            "linecolor": "white",
            "ticks": ""
           }
          },
          "title": {
           "x": 0.05
          },
          "xaxis": {
           "automargin": true,
           "gridcolor": "white",
           "linecolor": "white",
           "ticks": "",
           "title": {
            "standoff": 15
           },
           "zerolinecolor": "white",
           "zerolinewidth": 2
          },
          "yaxis": {
           "automargin": true,
           "gridcolor": "white",
           "linecolor": "white",
           "ticks": "",
           "title": {
            "standoff": 15
           },
           "zerolinecolor": "white",
           "zerolinewidth": 2
          }
         }
        },
        "title": {
         "text": "Mecanismos para la gestión del conocimiento"
        },
        "width": 1200,
        "xaxis": {
         "title": {
          "text": "Mecanismos vs Mecanismos web"
         }
        },
        "yaxis": {
         "title": {
          "text": "Cantidad de mecanismos"
         }
        }
       }
      }
     },
     "metadata": {},
     "output_type": "display_data"
    }
   ],
   "source": [
    "ents=respuestas_2023_df['_uuid']\n",
    "num_ents=len(ents.unique())\n",
    "\n",
    "keywords = ['intranet', 'http', 'https', 'www', 'web']\n",
    "p37_df['web'] = p37_df['p37_cod'].apply(lambda x: 1 if any(keyword in x.lower() for keyword in keywords) else 0)\n",
    "webs=p37_df.loc[p37_df['web']==1]\n",
    "num_webs=len(webs)\n",
    "\n",
    "no_webs=p37_df.loc[p37_df['web']==0]\n",
    "num_no_webs=len(no_webs)\n",
    "\n",
    "unidades=p37_df['p37_cod']\n",
    "num_unidades=len(unidades)\n",
    "\n",
    "values = [num_unidades, num_webs, num_no_webs]\n",
    "categories = ['Total de mecanismos', 'Mecanismos para gestión del conocimiento en web', 'Mecanismos para gestión del conocimiento no web']\n",
    "\n",
    "fig = go.Figure()\n",
    "fig.add_trace(go.Bar(x=categories, y=values, text=values, textposition='auto'))\n",
    "\n",
    "fig.update_layout(title='Mecanismos para la gestión del conocimiento', xaxis_title='Mecanismos vs Mecanismos web', yaxis_title='Cantidad de mecanismos',height=600, width=1200)\n",
    "fig.update_layout(height=600, width=1200)\n",
    "fig.write_image(f'./files/graficos/Causas Indirectas/b/Volumen_entidades_vs_canales.png')\n",
    "fig.show()"
   ]
  },
  {
   "cell_type": "markdown",
   "metadata": {},
   "source": [
    "3. Ausencia de garantías para procesos de largo aliento.\n",
    "    - Ya en carpeta como ***general_vs_general_inno.png*** y como ***herramientas_vs_general_inno.png***\n",
    "\n",
    "    ![Árbol de problemas](./files/graficos/Causas%20Indirectas/general_vs_general_inno.png)\n",
    "    ![Árbol de problemas](./files/graficos/Causas%20Indirectas/herramientas_vs_general_inno.png)"
   ]
  },
  {
   "cell_type": "markdown",
   "metadata": {},
   "source": [
    "## Sectoriales"
   ]
  },
  {
   "cell_type": "code",
   "execution_count": 31,
   "metadata": {},
   "outputs": [],
   "source": [
    "import plotly.express as px\n",
    "import pandas as pd\n",
    "\n",
    "df_melted = pd.melt(resultados_2023_df,\n",
    "                    id_vars=['Entidades', 'Sector'], \n",
    "                    value_vars=['Resultado IIP 2019', 'Resultado IIP 2021', 'Resultado IIP 2023'],\n",
    "                    var_name='Variable_Year', value_name='Value')\n",
    "\n",
    "df_melted['Value'] = pd.to_numeric(df_melted['Value'], errors='coerce')\n",
    "\n",
    "for sector in df_melted['Sector'].unique():\n",
    "    df_sector = df_melted[df_melted['Sector'] == sector]\n",
    "    \n",
    "    fig = px.line(df_sector, x='Variable_Year', y='Value', color='Entidades',\n",
    "                  labels={'Value': 'Puntaje', 'Entidades': 'Entidades', 'Variable_Year': 'Año Medición'},\n",
    "                  title=f'Tendencias de entidades en el IIP por sector: {sector}')\n",
    "\n",
    "    fig.update_layout(height=600, width=1200)\n",
    "    #fig.write_image(f'./files/graficos/Sector_{sector}.png')\n",
    "    \n",
    "    #fig.show()\n"
   ]
  },
  {
   "cell_type": "code",
   "execution_count": 32,
   "metadata": {},
   "outputs": [],
   "source": [
    "import plotly.express as px\n",
    "import pandas as pd\n",
    "\n",
    "df_melted = pd.melt(resultados_2023_df,\n",
    "                    id_vars=['Entidades', 'Sector'], \n",
    "                    value_vars=['COM 1 - 2019', 'COM 1 - 2021', 'COM 1 - 2023'],\n",
    "                    var_name='Variable_Year', value_name='Value')\n",
    "\n",
    "df_melted['Value'] = pd.to_numeric(df_melted['Value'], errors='coerce')\n",
    "\n",
    "for sector in df_melted['Sector'].unique():\n",
    "    df_sector = df_melted[df_melted['Sector'] == sector]\n",
    "    \n",
    "    fig = px.line(df_sector, x='Variable_Year', y='Value', color='Entidades',\n",
    "                  labels={'Value': 'Puntaje', 'Entidades': 'Entidades', 'Variable_Year': 'Año Medición'},\n",
    "                  title=f'Tendencias en Componente 1 (Capacidad Institucional) por sector: {sector}')\n",
    "\n",
    "    fig.update_layout(height=600, width=1200)\n",
    "    #fig.write_image(f'./files/graficos/Comp_1_sector_{sector}.png')\n",
    "    \n",
    "    #fig.show()\n"
   ]
  },
  {
   "cell_type": "code",
   "execution_count": 33,
   "metadata": {},
   "outputs": [],
   "source": [
    "import plotly.express as px\n",
    "import pandas as pd\n",
    "\n",
    "df_melted = pd.melt(resultados_2023_df,\n",
    "                    id_vars=['Entidades', 'Sector'], \n",
    "                    value_vars=['COM 2 - 2019', 'COM 2 - 2021', 'COM 2 - 2023'],\n",
    "                    var_name='Variable_Year', value_name='Value')\n",
    "\n",
    "df_melted['Value'] = pd.to_numeric(df_melted['Value'], errors='coerce')\n",
    "\n",
    "for sector in df_melted['Sector'].unique():\n",
    "    df_sector = df_melted[df_melted['Sector'] == sector]\n",
    "    \n",
    "    fig = px.line(df_sector, x='Variable_Year', y='Value', color='Entidades',\n",
    "                  labels={'Value': 'Puntaje', 'Entidades': 'Entidades', 'Variable_Year': 'Año Medición'},\n",
    "                  title=f'Tendencias en Componente 2 (Procesos y Prácticas) por sector: {sector}')\n",
    "\n",
    "    fig.update_layout(height=600, width=1200)\n",
    "    #fig.write_image(f'./files/graficos/Comp_2_sector_{sector}.png')\n",
    "    \n",
    "    #fig.show()\n"
   ]
  },
  {
   "cell_type": "code",
   "execution_count": 34,
   "metadata": {},
   "outputs": [],
   "source": [
    "import plotly.express as px\n",
    "import pandas as pd\n",
    "\n",
    "df_melted = pd.melt(resultados_2023_df,\n",
    "                    id_vars=['Entidades', 'Sector'], \n",
    "                    value_vars=['COM 3 - 2019', 'COM 3 - 2021', 'COM 3 - 2023'],\n",
    "                    var_name='Variable_Year', value_name='Value')\n",
    "\n",
    "df_melted['Value'] = pd.to_numeric(df_melted['Value'], errors='coerce')\n",
    "\n",
    "for sector in df_melted['Sector'].unique():\n",
    "    df_sector = df_melted[df_melted['Sector'] == sector]\n",
    "    \n",
    "    fig = px.line(df_sector, x='Variable_Year', y='Value', color='Entidades',\n",
    "                  labels={'Value': 'Puntaje', 'Entidades': 'Entidades', 'Variable_Year': 'Año Medición'},\n",
    "                  title=f'Tendencias en Componente 3 (Resultados) por sector: {sector}')\n",
    "\n",
    "    fig.update_layout(height=600, width=1200)\n",
    "    #fig.write_image(f'./files/graficos/Comp_3_sector_{sector}.png')\n",
    "    \n",
    "    #fig.show()\n"
   ]
  },
  {
   "cell_type": "code",
   "execution_count": 35,
   "metadata": {},
   "outputs": [],
   "source": [
    "import plotly.express as px\n",
    "import pandas as pd\n",
    "\n",
    "df_melted = pd.melt(resultados_2023_df,\n",
    "                    id_vars=['Entidades', 'Sector'], \n",
    "                    value_vars=['COM 4 - 2019', 'COM 4 - 2021', 'COM 4 - 2023'],\n",
    "                    var_name='Variable_Year', value_name='Value')\n",
    "\n",
    "df_melted['Value'] = pd.to_numeric(df_melted['Value'], errors='coerce')\n",
    "\n",
    "for sector in df_melted['Sector'].unique():\n",
    "    df_sector = df_melted[df_melted['Sector'] == sector]\n",
    "    \n",
    "    fig = px.line(df_sector, x='Variable_Year', y='Value', color='Entidades',\n",
    "                  labels={'Value': 'Puntaje', 'Entidades': 'Entidades', 'Variable_Year': 'Año Medición'},\n",
    "                  title=f'Tendencias en Componente 4 (Gestión del Conocimiento) por sector: {sector}')\n",
    "\n",
    "    fig.update_layout(height=600, width=1200)\n",
    "    #fig.write_image(f'./files/graficos/Comp_4_sector_{sector}.png')\n",
    "    \n",
    "    #fig.show()\n"
   ]
  }
 ],
 "metadata": {
  "kernelspec": {
   "display_name": "stats",
   "language": "python",
   "name": "python3"
  },
  "language_info": {
   "codemirror_mode": {
    "name": "ipython",
    "version": 3
   },
   "file_extension": ".py",
   "mimetype": "text/x-python",
   "name": "python",
   "nbconvert_exporter": "python",
   "pygments_lexer": "ipython3",
   "version": "3.11.3"
  },
  "orig_nbformat": 4,
  "vscode": {
   "interpreter": {
    "hash": "ba27c4298b2ebc30e8fde991ebe0d4a234cba750f04ffbd895f48b5db1ffcbce"
   }
  }
 },
 "nbformat": 4,
 "nbformat_minor": 2
}
